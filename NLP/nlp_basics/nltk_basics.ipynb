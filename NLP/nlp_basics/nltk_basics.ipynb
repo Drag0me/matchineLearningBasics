{
 "metadata": {
  "language_info": {
   "codemirror_mode": {
    "name": "ipython",
    "version": 3
   },
   "file_extension": ".py",
   "mimetype": "text/x-python",
   "name": "python",
   "nbconvert_exporter": "python",
   "pygments_lexer": "ipython3",
   "version": "3.9.0-final"
  },
  "orig_nbformat": 2,
  "kernelspec": {
   "name": "python3",
   "display_name": "Python 3.9.0 64-bit ('venv')",
   "metadata": {
    "interpreter": {
     "hash": "2a7e813a3a7523d091373fb5a49c6f9e3897e22c862934a34c60a0ebdf4c3580"
    }
   }
  }
 },
 "nbformat": 4,
 "nbformat_minor": 2,
 "cells": [
  {
   "cell_type": "code",
   "execution_count": 41,
   "metadata": {},
   "outputs": [],
   "source": [
    "import nltk\n",
    "# nltk.download(\"punkt\")\n",
    "# nltk.download(\"book\")"
   ]
  },
  {
   "cell_type": "code",
   "execution_count": 5,
   "metadata": {},
   "outputs": [],
   "source": [
    "text = \"Python is an interpreted high-level programming language for general-purpose programming. Created by Guido van Rossum and first released in 1991.\""
   ]
  },
  {
   "cell_type": "code",
   "execution_count": 6,
   "metadata": {},
   "outputs": [],
   "source": [
    "words = nltk.word_tokenize(text)"
   ]
  },
  {
   "cell_type": "code",
   "execution_count": 7,
   "metadata": {},
   "outputs": [
    {
     "output_type": "stream",
     "name": "stdout",
     "text": [
      "['Python', 'is', 'an', 'interpreted', 'high-level', 'programming', 'language', 'for', 'general-purpose', 'programming', '.', 'Created', 'by', 'Guido', 'van', 'Rossum', 'and', 'first', 'released', 'in', '1991', '.']\n"
     ]
    }
   ],
   "source": [
    "print(words)"
   ]
  },
  {
   "cell_type": "code",
   "execution_count": 8,
   "metadata": {},
   "outputs": [
    {
     "output_type": "execute_result",
     "data": {
      "text/plain": [
       "[('programming', 2), ('.', 2)]"
      ]
     },
     "metadata": {},
     "execution_count": 8
    }
   ],
   "source": [
    "word_frequency = nltk.FreqDist(words)\n",
    "word_frequency.most_common(2)"
   ]
  },
  {
   "cell_type": "code",
   "execution_count": 25,
   "metadata": {},
   "outputs": [
    {
     "output_type": "stream",
     "name": "stderr",
     "text": [
      "[nltk_data] Downloading collection 'book'\n",
      "[nltk_data]    | \n",
      "[nltk_data]    | Downloading package abc to\n",
      "[nltk_data]    |     C:\\Users\\Rajat\\AppData\\Roaming\\nltk_data...\n",
      "[nltk_data]    |   Package abc is already up-to-date!\n",
      "[nltk_data]    | Downloading package brown to\n",
      "[nltk_data]    |     C:\\Users\\Rajat\\AppData\\Roaming\\nltk_data...\n",
      "[nltk_data]    |   Package brown is already up-to-date!\n",
      "[nltk_data]    | Downloading package chat80 to\n",
      "[nltk_data]    |     C:\\Users\\Rajat\\AppData\\Roaming\\nltk_data...\n",
      "[nltk_data]    |   Package chat80 is already up-to-date!\n",
      "[nltk_data]    | Downloading package cmudict to\n",
      "[nltk_data]    |     C:\\Users\\Rajat\\AppData\\Roaming\\nltk_data...\n",
      "[nltk_data]    |   Package cmudict is already up-to-date!\n",
      "[nltk_data]    | Downloading package conll2000 to\n",
      "[nltk_data]    |     C:\\Users\\Rajat\\AppData\\Roaming\\nltk_data...\n",
      "[nltk_data]    |   Package conll2000 is already up-to-date!\n",
      "[nltk_data]    | Downloading package conll2002 to\n",
      "[nltk_data]    |     C:\\Users\\Rajat\\AppData\\Roaming\\nltk_data...\n",
      "[nltk_data]    |   Package conll2002 is already up-to-date!\n",
      "[nltk_data]    | Downloading package dependency_treebank to\n",
      "[nltk_data]    |     C:\\Users\\Rajat\\AppData\\Roaming\\nltk_data...\n",
      "[nltk_data]    |   Package dependency_treebank is already up-to-date!\n",
      "[nltk_data]    | Downloading package genesis to\n",
      "[nltk_data]    |     C:\\Users\\Rajat\\AppData\\Roaming\\nltk_data...\n",
      "[nltk_data]    |   Package genesis is already up-to-date!\n",
      "[nltk_data]    | Downloading package gutenberg to\n",
      "[nltk_data]    |     C:\\Users\\Rajat\\AppData\\Roaming\\nltk_data...\n",
      "[nltk_data]    |   Package gutenberg is already up-to-date!\n",
      "[nltk_data]    | Downloading package ieer to\n",
      "[nltk_data]    |     C:\\Users\\Rajat\\AppData\\Roaming\\nltk_data...\n",
      "[nltk_data]    |   Package ieer is already up-to-date!\n",
      "[nltk_data]    | Downloading package inaugural to\n",
      "[nltk_data]    |     C:\\Users\\Rajat\\AppData\\Roaming\\nltk_data...\n",
      "[nltk_data]    |   Package inaugural is already up-to-date!\n",
      "[nltk_data]    | Downloading package movie_reviews to\n",
      "[nltk_data]    |     C:\\Users\\Rajat\\AppData\\Roaming\\nltk_data...\n",
      "[nltk_data]    |   Package movie_reviews is already up-to-date!\n",
      "[nltk_data]    | Downloading package nps_chat to\n",
      "[nltk_data]    |     C:\\Users\\Rajat\\AppData\\Roaming\\nltk_data...\n",
      "[nltk_data]    |   Package nps_chat is already up-to-date!\n",
      "[nltk_data]    | Downloading package names to\n",
      "[nltk_data]    |     C:\\Users\\Rajat\\AppData\\Roaming\\nltk_data...\n",
      "[nltk_data]    |   Package names is already up-to-date!\n",
      "[nltk_data]    | Downloading package ppattach to\n",
      "[nltk_data]    |     C:\\Users\\Rajat\\AppData\\Roaming\\nltk_data...\n",
      "[nltk_data]    |   Package ppattach is already up-to-date!\n",
      "[nltk_data]    | Downloading package reuters to\n",
      "[nltk_data]    |     C:\\Users\\Rajat\\AppData\\Roaming\\nltk_data...\n",
      "[nltk_data]    |   Package reuters is already up-to-date!\n",
      "[nltk_data]    | Downloading package senseval to\n",
      "[nltk_data]    |     C:\\Users\\Rajat\\AppData\\Roaming\\nltk_data...\n",
      "[nltk_data]    |   Package senseval is already up-to-date!\n",
      "[nltk_data]    | Downloading package state_union to\n",
      "[nltk_data]    |     C:\\Users\\Rajat\\AppData\\Roaming\\nltk_data...\n",
      "[nltk_data]    |   Package state_union is already up-to-date!\n",
      "[nltk_data]    | Downloading package stopwords to\n",
      "[nltk_data]    |     C:\\Users\\Rajat\\AppData\\Roaming\\nltk_data...\n",
      "[nltk_data]    |   Package stopwords is already up-to-date!\n",
      "[nltk_data]    | Downloading package swadesh to\n",
      "[nltk_data]    |     C:\\Users\\Rajat\\AppData\\Roaming\\nltk_data...\n",
      "[nltk_data]    |   Package swadesh is already up-to-date!\n",
      "[nltk_data]    | Downloading package timit to\n",
      "[nltk_data]    |     C:\\Users\\Rajat\\AppData\\Roaming\\nltk_data...\n",
      "[nltk_data]    |   Package timit is already up-to-date!\n",
      "[nltk_data]    | Downloading package treebank to\n",
      "[nltk_data]    |     C:\\Users\\Rajat\\AppData\\Roaming\\nltk_data...\n",
      "[nltk_data]    |   Package treebank is already up-to-date!\n",
      "[nltk_data]    | Downloading package toolbox to\n",
      "[nltk_data]    |     C:\\Users\\Rajat\\AppData\\Roaming\\nltk_data...\n",
      "[nltk_data]    |   Package toolbox is already up-to-date!\n",
      "[nltk_data]    | Downloading package udhr to\n",
      "[nltk_data]    |     C:\\Users\\Rajat\\AppData\\Roaming\\nltk_data...\n",
      "[nltk_data]    |   Package udhr is already up-to-date!\n",
      "[nltk_data]    | Downloading package udhr2 to\n",
      "[nltk_data]    |     C:\\Users\\Rajat\\AppData\\Roaming\\nltk_data...\n",
      "[nltk_data]    |   Package udhr2 is already up-to-date!\n",
      "[nltk_data]    | Downloading package unicode_samples to\n",
      "[nltk_data]    |     C:\\Users\\Rajat\\AppData\\Roaming\\nltk_data...\n",
      "[nltk_data]    |   Package unicode_samples is already up-to-date!\n",
      "[nltk_data]    | Downloading package webtext to\n",
      "[nltk_data]    |     C:\\Users\\Rajat\\AppData\\Roaming\\nltk_data...\n",
      "[nltk_data]    |   Package webtext is already up-to-date!\n",
      "[nltk_data]    | Downloading package wordnet to\n",
      "[nltk_data]    |     C:\\Users\\Rajat\\AppData\\Roaming\\nltk_data...\n",
      "[nltk_data]    |   Package wordnet is already up-to-date!\n",
      "[nltk_data]    | Downloading package wordnet_ic to\n",
      "[nltk_data]    |     C:\\Users\\Rajat\\AppData\\Roaming\\nltk_data...\n",
      "[nltk_data]    |   Unzipping corpora\\wordnet_ic.zip.\n",
      "[nltk_data]    | Downloading package words to\n",
      "[nltk_data]    |     C:\\Users\\Rajat\\AppData\\Roaming\\nltk_data...\n",
      "[nltk_data]    |   Unzipping corpora\\words.zip.\n",
      "[nltk_data]    | Downloading package maxent_treebank_pos_tagger to\n",
      "[nltk_data]    |     C:\\Users\\Rajat\\AppData\\Roaming\\nltk_data...\n",
      "[nltk_data]    |   Unzipping taggers\\maxent_treebank_pos_tagger.zip.\n",
      "[nltk_data]    | Downloading package maxent_ne_chunker to\n",
      "[nltk_data]    |     C:\\Users\\Rajat\\AppData\\Roaming\\nltk_data...\n",
      "[nltk_data]    |   Unzipping chunkers\\maxent_ne_chunker.zip.\n",
      "[nltk_data]    | Downloading package universal_tagset to\n",
      "[nltk_data]    |     C:\\Users\\Rajat\\AppData\\Roaming\\nltk_data...\n",
      "[nltk_data]    |   Unzipping taggers\\universal_tagset.zip.\n",
      "[nltk_data]    | Downloading package punkt to\n",
      "[nltk_data]    |     C:\\Users\\Rajat\\AppData\\Roaming\\nltk_data...\n",
      "[nltk_data]    |   Package punkt is already up-to-date!\n",
      "[nltk_data]    | Downloading package book_grammars to\n",
      "[nltk_data]    |     C:\\Users\\Rajat\\AppData\\Roaming\\nltk_data...\n",
      "[nltk_data]    |   Unzipping grammars\\book_grammars.zip.\n",
      "[nltk_data]    | Downloading package city_database to\n",
      "[nltk_data]    |     C:\\Users\\Rajat\\AppData\\Roaming\\nltk_data...\n",
      "[nltk_data]    |   Package city_database is already up-to-date!\n",
      "[nltk_data]    | Downloading package tagsets to\n",
      "[nltk_data]    |     C:\\Users\\Rajat\\AppData\\Roaming\\nltk_data...\n",
      "[nltk_data]    |   Package tagsets is already up-to-date!\n",
      "[nltk_data]    | Downloading package panlex_swadesh to\n",
      "[nltk_data]    |     C:\\Users\\Rajat\\AppData\\Roaming\\nltk_data...\n",
      "[nltk_data]    | Downloading package averaged_perceptron_tagger to\n",
      "[nltk_data]    |     C:\\Users\\Rajat\\AppData\\Roaming\\nltk_data...\n",
      "[nltk_data]    |   Package averaged_perceptron_tagger is already up-\n",
      "[nltk_data]    |       to-date!\n",
      "[nltk_data]    | \n",
      "[nltk_data]  Done downloading collection book\n"
     ]
    },
    {
     "output_type": "execute_result",
     "data": {
      "text/plain": [
       "True"
      ]
     },
     "metadata": {},
     "execution_count": 25
    }
   ],
   "source": [
    "nltk.download(\"book\")"
   ]
  },
  {
   "cell_type": "code",
   "execution_count": 2,
   "metadata": {},
   "outputs": [
    {
     "output_type": "stream",
     "name": "stdout",
     "text": [
      "*** Introductory Examples for the NLTK Book ***\n",
      "Loading text1, ..., text9 and sent1, ..., sent9\n",
      "Type the name of the text or sentence to view it.\n",
      "Type: 'texts()' or 'sents()' to list the materials.\n",
      "text1: Moby Dick by Herman Melville 1851\n",
      "text2: Sense and Sensibility by Jane Austen 1811\n",
      "text3: The Book of Genesis\n",
      "text4: Inaugural Address Corpus\n",
      "text5: Chat Corpus\n",
      "text6: Monty Python and the Holy Grail\n",
      "text7: Wall Street Journal\n",
      "text8: Personals Corpus\n",
      "text9: The Man Who Was Thursday by G . K . Chesterton 1908\n"
     ]
    }
   ],
   "source": [
    "from nltk.book import *"
   ]
  },
  {
   "cell_type": "code",
   "execution_count": 25,
   "metadata": {},
   "outputs": [
    {
     "output_type": "stream",
     "name": "stdout",
     "text": [
      "<Text: Moby Dick by Herman Melville 1851>\n"
     ]
    }
   ],
   "source": [
    "print(text1)"
   ]
  },
  {
   "cell_type": "code",
   "execution_count": 26,
   "metadata": {},
   "outputs": [],
   "source": [
    "n_words = len(text1)"
   ]
  },
  {
   "cell_type": "code",
   "execution_count": 27,
   "metadata": {},
   "outputs": [
    {
     "output_type": "execute_result",
     "data": {
      "text/plain": [
       "260819"
      ]
     },
     "metadata": {},
     "execution_count": 27
    }
   ],
   "source": [
    "n_words"
   ]
  },
  {
   "cell_type": "code",
   "execution_count": 30,
   "metadata": {},
   "outputs": [],
   "source": [
    "text6_freq = nltk.FreqDist(text6.tokens)"
   ]
  },
  {
   "cell_type": "code",
   "execution_count": 33,
   "metadata": {},
   "outputs": [
    {
     "output_type": "execute_result",
     "data": {
      "text/plain": [
       "['dictatorship']"
      ]
     },
     "metadata": {},
     "execution_count": 33
    }
   ],
   "source": [
    "[i for i in text6_freq if i.endswith(\"ship\")]"
   ]
  },
  {
   "cell_type": "code",
   "execution_count": 35,
   "metadata": {},
   "outputs": [
    {
     "output_type": "execute_result",
     "data": {
      "text/plain": [
       "225"
      ]
     },
     "metadata": {},
     "execution_count": 35
    }
   ],
   "source": [
    "text6_freq.get(\"ARTHUR\")"
   ]
  },
  {
   "source": [
    "## Text corpora - large text\n",
    "- two popular ones are\n",
    "    - Genesis: It is a collection of few words across multiple languages.\n",
    "    - Brown: It is the first electronic corpus of one million English words.\n",
    "- other\n",
    "    - Gutenberg : Collections from Project Gutenberg\n",
    "    - Inaugural : Collection of U.S Presidents inaugural speeches \n"
   ],
   "cell_type": "markdown",
   "metadata": {}
  },
  {
   "cell_type": "code",
   "execution_count": 17,
   "metadata": {},
   "outputs": [],
   "source": [
    "from nltk.corpus import genesis"
   ]
  },
  {
   "cell_type": "code",
   "execution_count": 41,
   "metadata": {},
   "outputs": [
    {
     "output_type": "execute_result",
     "data": {
      "text/plain": [
       "['english-kjv.txt',\n",
       " 'english-web.txt',\n",
       " 'finnish.txt',\n",
       " 'french.txt',\n",
       " 'german.txt',\n",
       " 'lolcat.txt',\n",
       " 'portuguese.txt',\n",
       " 'swedish.txt']"
      ]
     },
     "metadata": {},
     "execution_count": 41
    }
   ],
   "source": [
    "genesis.fileids()"
   ]
  },
  {
   "cell_type": "code",
   "execution_count": 47,
   "metadata": {
    "tags": [
     "outputPrepend"
    ]
   },
   "outputs": [
    {
     "output_type": "stream",
     "name": "stdout",
     "text": [
      " reviv\nAnd Israel said, It is enough; Joseph my son is yet alive: I\nwill go and see him before I die.\nAnd Israel took his journey with all that he had, and came to\nBeersheba, and offered sacrifices unto the God of his father\nIsaac.\nAnd God spake unto Israel in the visions of the night, and\nsaid, Jacob, Jacob. And he said, Here am I.\nAnd he said, I am God, the God of thy father: fear not to go\ndown into Egypt; for I will there make of thee a great nati\nI will go down with thee into Egypt; and I will also surely\nbring thee up aga and Joseph shall put his hand upon thine\neyes.\nAnd Jacob rose up from Beersheba: and the sons of Israel\ncarried Jacob their father, and their little ones, and their\nwives, in the wagons which Pharaoh had sent to carry him.\nAnd they took their cattle, and their goods, which they had\ngotten in the land of Canaan, and came into Egypt, Jacob, and\nall his seed with h\nHis sons, and his sons' sons with him, his daughters, and his\nsons' daughters, and all his seed brought he with him into\nEgypt.\nAnd these are the names of the children of Israel, which came\ninto Egypt, Jacob and his so Reuben, Jacob's firstborn.\nAnd the sons of Reuben; Hanoch, and Phallu, and Hezron, and\nCarmi.\nAnd the sons of Simeon; Jemuel, and Jamin, and Ohad, and\nJachin, and Zohar, and Shaul the son of a Canaanitish woman.\nAnd the sons of Levi; Gershon, Kohath, and Merari.\nAnd the sons of Judah; Er, and Onan, and Shelah, and Pharez,\nand Zar but Er and Onan died in the land of Canaan. And the\nsons of Pharez were Hezron and Hamul.\nAnd the sons of Issachar; Tola, and Phuvah, and Job, and\nShimron.\nAnd the sons of Zebulun; Sered, and Elon, and Jahleel.\nThese be the sons of Leah, which she bare unto Jacob in\nPadanaram, with his daughter Din all the souls of his sons\nand his daughters were thirty and three.\nAnd the sons of Gad; Ziphion, and Haggi, Shuni, and Ezbon,\nEri, and Arodi, and Areli.\nAnd the sons of Asher; Jimnah, and Ishuah, and Isui, and\nBeriah, and Serah their sist and the sons of Beriah; Heber,\nand Malchiel.\nThese are the sons of Zilpah, whom Laban gave to Leah his\ndaughter, and these she bare unto Jacob, even sixteen souls.\nThe sons of Rachel Jacob's wife; Joseph, and Benjamin.\nAnd unto Joseph in the land of Egypt were born Manasseh and\nEphraim, which Asenath the daughter of Potipherah priest of On\nbare unto him.\nAnd the sons of Benjamin were Belah, and Becher, and Ashbel,\nGera, and Naaman, Ehi, and Rosh, Muppim, and Huppim, and Ard.\nThese are the sons of Rachel, which were born to Jacob: all\nthe souls were fourteen.\nAnd the sons of Dan; Hushim.\nAnd the sons of Naphtali; Jahzeel, and Guni, and Jezer, and\nShillem.\nThese are the sons of Bilhah, which Laban gave unto Rachel his\ndaughter, and she bare these unto Jac all the souls were\nseven.\nAll the souls that came with Jacob into Egypt, which came out\nof his loins, besides Jacob's sons' wives, all the souls were\nthreescore and six;\nAnd the sons of Joseph, which were born him in Egypt, were two\nsou all the souls of the house of Jacob, which came into\nEgypt, were threescore and ten.\nAnd he sent Judah before him unto Joseph, to direct his face\nunto Goshen; and they came into the land of Goshen.\nAnd Joseph made ready his chariot, and went up to meet Israel\nhis father, to Goshen, and presented himself unto him; and he\nfell on his neck, and wept on his neck a good while.\nAnd Israel said unto Joseph, Now let me die, since I have seen\nthy face, because thou art yet alive.\nAnd Joseph said unto his brethren, and unto his father's\nhouse, I will go up, and shew Pharaoh, and say unto him, My\nbrethren, and my father's house, which were in the land of\nCanaan, are come unto me;\nAnd the men are shepherds, for their trade hath been to feed\ncattle; and they have brought their flocks, and their herds,\nand all that they have.\nAnd it shall come to pass, when Pharaoh shall call you, and\nshall say, What is your occupation?\nThat ye shall say, Thy servants' trade hath been about cattle\nfrom our youth even until now, both we, and also our fathe\nthat ye may dwell in the land of Goshen; for every shepherd is\nan abomination unto the Egyptians.\nThen Joseph came and told Pharaoh, and said, My father and my\nbrethren, and their flocks, and their herds, and all that they\nhave, are come out of the land of Canaan; and, behold, they\nare in the land of Goshen.\nAnd he took some of his brethren, even five men, and presented\nthem unto Pharaoh.\nAnd Pharaoh said unto his brethren, What is your occupation?\nAnd they said unto Pharaoh, Thy servants are shepherds, both\nwe, and also our fathers.\nThey said morever unto Pharaoh, For to sojourn in the land are\nwe come; for thy servants have no pasture for their flocks;\nfor the famine is sore in the land of Cana now therefore,\nwe pray thee, let thy servants dwell in the land of Goshen.\nAnd Pharaoh spake unto Joseph, saying, Thy father and thy\nbrethren are come unto th\nThe land of Egypt is before thee; in the best of the land make\nthy father and brethren to dwell; in the land of Goshen let\nthem dwe and if thou knowest any men of activity among\nthem, then make them rulers over my cattle.\nAnd Joseph brought in Jacob his father, and set him before\nPhara and Jacob blessed Pharaoh.\nAnd Pharaoh said unto Jacob, How old art thou?\nAnd Jacob said unto Pharaoh, The days of the years of my\npilgrimage are an hundred and thirty yea few and evil have\nthe days of the years of my life been, and have not attained\nunto the days of the years of the life of my fathers in the\ndays of their pilgrimage.\nAnd Jacob blessed Pharaoh, and went out from before Pharaoh.\nAnd Joseph placed his father and his brethren, and gave them a\npossession in the land of Egypt, in the best of the land, in\nthe land of Rameses, as Pharaoh had commanded.\nAnd Joseph nourished his father, and his brethren, and all his\nfather's household, with bread, according to their families.\nAnd there was no bread in all the land; for the famine was\nvery sore, so that the land of Egypt and all the land of\nCanaan fainted by reason of the famine.\nAnd Joseph gathered up all the money that was found in the\nland of Egypt, and in the land of Canaan, for the corn which\nthey boug and Joseph brought the money into Pharaoh's\nhouse.\nAnd when money failed in the land of Egypt, and in the land of\nCanaan, all the Egyptians came unto Joseph, and said, Give us\nbre for why should we die in thy presence? for the money\nfaileth.\nAnd Joseph said, Give your cattle; and I will give you for\nyour cattle, if money fail.\nAnd they brought their cattle unto Joseph: and Joseph gave\nthem bread in exchange for horses, and for the flocks, and for\nthe cattle of the herds, and for the ass and he fed them\nwith bread for all their cattle for that year.\nWhen that year was ended, they came unto him the second year,\nand said unto him, We will not hide it from my lord, how that\nour money is spent; my lord also hath our herds of cattle;\nthere is not ought left in the sight of my lord, but our\nbodies, and our lan\nWherefore shall we die before thine eyes, both we and our\nland? buy us and our land for bread, and we and our land will\nbe servants unto Phara and give us seed, that we may live,\nand not die, that the land be not desolate.\nAnd Joseph bought all the land of Egypt for Pharaoh; for the\nEgyptians sold every man his field, because the famine\nprevailed over th so the land became Pharaoh's.\nAnd as for the people, he removed them to cities from one end\nof the borders of Egypt even to the other end thereof.\nOnly the land of the priests bought he not; for the priests\nhad a portion assigned them of Pharaoh, and did eat their\nportion which Pharaoh gave th wherefore they sold not their\nlands.\nThen Joseph said unto the people, Behold, I have bought you\nthis day and your land for Phara lo, here is seed for you,\nand ye shall sow the land.\nAnd it shall come to pass in the increase, that ye shall give\nthe fifth part unto Pharaoh, and four parts shall be your own,\nfor seed of the field, and for your food, and for them of your\nhouseholds, and for food for your little ones.\nAnd they said, Thou hast saved our lives: let us find grace in\nthe sight of my lord, and we will be Pharaoh's servants.\nAnd Joseph made it a law over the land of Egypt unto this day,\nthat Pharaoh should have the fifth part, except the land of\nthe priests only, which became not Pharaoh's.\nAnd Israel dwelt in the land of Egypt, in the country of\nGoshen; and they had possessions therein, and grew, and\nmultiplied exceedingly.\nAnd Jacob lived in the land of Egypt seventeen years: so the\nwhole age of Jacob was an hundred forty and seven years.\nAnd the time drew nigh that Israel must die: and he called his\nson Joseph, and said unto him, If now I have found grace in\nthy sight, put, I pray thee, thy hand under my thigh, and deal\nkindly and truly with me; bury me not, I pray thee, in Egy\nBut I will lie with my fathers, and thou shalt carry me out of\nEgypt, and bury me in their buryingplace. And he said, I will\ndo as thou hast said.\nAnd he said, Swear unto me. And he sware unto him. And Israel\nbowed himself upon the bed's head.\nAnd it came to pass after these things, that one told Joseph,\nBehold, thy father is si and he took with him his two sons,\nManasseh and Ephraim.\nAnd one told Jacob, and said, Behold, thy son Joseph cometh\nunto th and Israel strengthened himself, and sat upon the\nbed.\nAnd Jacob said unto Joseph, God Almighty appeared unto me at\nLuz in the land of Canaan, and blessed me,\nAnd said unto me, Behold, I will make thee fruitful, and\nmultiply thee, and I will make of thee a multitude of people;\nand will give this land to thy seed after thee for an\neverlasting possession.\nAnd now thy two sons, Ephraim and Manasseh, which were born\nunto thee in the land of Egypt before I came unto thee into\nEgypt, are mine; as Reuben and Simeon, they shall be mine.\nAnd thy issue, which thou begettest after them, shall be\nthine, and shall be called after the name of their brethren in\ntheir inheritance.\nAnd as for me, when I came from Padan, Rachel died by me in\nthe land of Canaan in the way, when yet there was but a little\nway to come unto Ephra and I buried her there in the way of\nEphrath; the same is Bethlehem.\nAnd Israel beheld Joseph's sons, and said, Who are these?\nAnd Joseph said unto his father, They are my sons, whom God\nhath given me in this place. And he said, Bring them, I pray\nthee, unto me, and I will bless them.\nNow the eyes of Israel were dim for age, so that he could not\nsee. And he brought them near unto him; and he kissed them,\nand embraced them.\nAnd Israel said unto Joseph, I had not thought to see thy\nfa and, lo, God hath shewed me also thy seed.\nAnd Joseph brought them out from between his knees, and he\nbowed himself with his face to the earth.\nAnd Joseph took them both, Ephraim in his right hand toward\nIsrael's left hand, and Manasseh in his left hand toward\nIsrael's right hand, and brought them near unto him.\nAnd Israel stretched out his right hand, and laid it upon\nEphraim's head, who was the younger, and his left hand upon\nManasseh's head, guiding his hands wittingly; for Manasseh was\nthe firstborn.\nAnd he blessed Joseph, and said, God, before whom my fathers\nAbraham and Isaac did walk, the God which fed me all my life\nlong unto this day,\nThe Angel which redeemed me from all evil, bless the lads; and\nlet my name be named on them, and the name of my fathers\nAbraham and Isaac; and let them grow into a multitude in the\nmidst of the earth.\nAnd when Joseph saw that his father laid his right hand upon\nthe head of Ephraim, it displeased h and he held up his\nfather's hand, to remove it from Ephraim's head unto\nManasseh's head.\nAnd Joseph said unto his father, Not so, my father: for this\nis the firstborn; put thy right hand upon his head.\nAnd his father refused, and said, I know it, my son, I know\nhe also shall become a people, and he also shall be great:\nbut truly his younger brother shall be greater than he, and\nhis seed shall become a multitude of nations.\nAnd he blessed them that day, saying, In thee shall Israel\nbless, saying, God make thee as Ephraim and as Manass and\nhe set Ephraim before Manasseh.\nAnd Israel said unto Joseph, Behold, I die: but God shall be\nwith you, and bring you again unto the land of your fathers.\nMoreover I have given to thee one portion above thy brethren,\nwhich I took out of the hand of the Amorite with my sword and\nwith my bow.\nAnd Jacob called unto his sons, and said, Gather yourselves\ntogether, that I may tell you that which shall befall you in\nthe last days.\nGather yourselves together, and hear, ye sons of Jacob; and\nhearken unto Israel your father.\nReuben, thou art my firstborn, my might, and the beginning of\nmy strength, the excellency of dignity, and the excellency of\npow\nUnstable as water, thou shalt not excel; because thou wentest\nup to thy father's bed; then defiledst thou  he went up to\nmy couch.\nSimeon and Levi are brethren; instruments of cruelty are in\ntheir habitations.\nO my soul, come not thou into their secret; unto their\nassembly, mine honour, be not thou unit for in their anger\nthey slew a man, and in their selfwill they digged down a\nwall.\nCursed be their anger, for it was fierce; and their wrath, for\nit was cru I will divide them in Jacob, and scatter them in\nIsrael.\nJudah, thou art he whom thy brethren shall praise: thy hand\nshall be in the neck of thine enemies; thy father's children\nshall bow down before thee.\nJudah is a lion's whelp: from the prey, my son, thou art gone\nhe stooped down, he couched as a lion, and as an old lion;\nwho shall rouse him up?\nThe sceptre shall not depart from Judah, nor a lawgiver from\nbetween his feet, until Shiloh come; and unto him shall the\ngathering of the people be.\nBinding his foal unto the vine, and his ass's colt unto the\nchoice vine; he washed his garments in wine, and his clothes\nin the blood of grap\nHis eyes shall be red with wine, and his teeth white with\nmilk.\nZebulun shall dwell at the haven of the sea; and he shall be\nfor an haven of ships; and his border shall be unto Zidon.\nIssachar is a strong ass couching down between two burdens:\nAnd he saw that rest was good, and the land that it was\npleasant; and bowed his shoulder to bear, and became a servant\nunto tribute.\nDan shall judge his people, as one of the tribes of Israel.\nDan shall be a serpent by the way, an adder in the path, that\nbiteth the horse heels, so that his rider shall fall backward.\nI have waited for thy salvation, O LORD.\nGad, a troop shall overcome him: but he shall overcome at the\nlast.\nOut of Asher his bread shall be fat, and he shall yield royal\ndainties.\nNaphtali is a hind let loose: he giveth goodly words.\nJoseph is a fruitful bough, even a fruitful bough by a well;\nwhose branches run over the wa\nThe archers have sorely grieved him, and shot at him, and\nhated h\nBut his bow abode in strength, and the arms of his hands were\nmade strong by the hands of the mighty God of Jacob; (from\nthence is the shepherd, the stone of Isra)\nEven by the God of thy father, who shall help thee; and by the\nAlmighty, who shall bless thee with blessings of heaven above,\nblessings of the deep that lieth under, blessings of the\nbreasts, and of the wo\nThe blessings of thy father have prevailed above the blessings\nof my progenitors unto the utmost bound of the everlasting\nhil they shall be on the head of Joseph, and on the crown\nof the head of him that was separate from his brethren.\nBenjamin shall ravin as a wolf: in the morning he shall devour\nthe prey, and at night he shall divide the spoil.\nAll these are the twelve tribes of Israel: and this is it that\ntheir father spake unto them, and blessed them; every one\naccording to his blessing he blessed them.\nAnd he charged them, and said unto them, I am to be gathered\nunto my peop bury me with my fathers in the cave that is in\nthe field of Ephron the Hittite,\nIn the cave that is in the field of Machpelah, which is before\nMamre, in the land of Canaan, which Abraham bought with the\nfield of Ephron the Hittite for a possession of a\nburyingplace.\nThere they buried Abraham and Sarah his wife; there they\nburied Isaac and Rebekah his wife; and there I buried Leah.\nThe purchase of the field and of the cave that is therein was\nfrom the children of Heth.\nAnd when Jacob had made an end of commanding his sons, he\ngathered up his feet into the bed, and yielded up the ghost,\nand was gathered unto his people.\nAnd Joseph fell upon his father's face, and wept upon him, and\nkissed him.\nAnd Joseph commanded his servants the physicians to embalm his\nfath and the physicians embalmed Israel.\nAnd forty days were fulfilled for him; for so are fulfilled\nthe days of those which are embalm and the Egyptians\nmourned for him threescore and ten days.\nAnd when the days of his mourning were past, Joseph spake unto\nthe house of Pharaoh, saying, If now I have found grace in\nyour eyes, speak, I pray you, in the ears of Pharaoh, saying,\nMy father made me swear, saying, Lo, I die: in my grave which\nI have digged for me in the land of Canaan, there shalt thou\nbury me. Now therefore let me go up, I pray thee, and bury my\nfather, and I will come again.\nAnd Pharaoh said, Go up, and bury thy father, according as he\nmade thee swear.\nAnd Joseph went up to bury his father: and with him went up\nall the servants of Pharaoh, the elders of his house, and all\nthe elders of the land of Egypt,\nAnd all the house of Joseph, and his brethren, and his\nfather's hou only their little ones, and their flocks, and\ntheir herds, they left in the land of Goshen.\nAnd there went up with him both chariots and horsemen: and it\nwas a very great company.\nAnd they came to the threshingfloor of Atad, which is beyond\nJordan, and there they mourned with a great and very sore\nlamentati and he made a mourning for his father seven days.\nAnd when the inhabitants of the land, the Canaanites, saw the\nmourning in the floor of Atad, they said, This is a grievous\nmourning to the Egyptia wherefore the name of it was called\nAbelmizraim, which is beyond Jordan.\nAnd his sons did unto him according as he commanded them:\nFor his sons carried him into the land of Canaan, and buried\nhim in the cave of the field of Machpelah, which Abraham\nbought with the field for a possession of a buryingplace of\nEphron the Hittite, before Mamre.\nAnd Joseph returned into Egypt, he, and his brethren, and all\nthat went up with him to bury his father, after he had buried\nhis father.\nAnd when Joseph's brethren saw that their father was dead,\nthey said, Joseph will peradventure hate us, and will\ncertainly requite us all the evil which we did unto him.\nAnd they sent a messenger unto Joseph, saying, Thy father did\ncommand before he died, saying,\nSo shall ye say unto Joseph, Forgive, I pray thee now, the\ntrespass of thy brethren, and their sin; for they did unto\nthee ev and now, we pray thee, forgive the trespass of the\nservants of the God of thy father. And Joseph wept when they\nspake unto him.\nAnd his brethren also went and fell down before his face; and\nthey said, Behold, we be thy servants.\nAnd Joseph said unto them, Fear not: for am I in the place of\nGod?\nBut as for you, ye thought evil against me; but God meant it\nunto good, to bring to pass, as it is this day, to save much\npeople alive.\nNow therefore fear ye not: I will nourish you, and your little\nones. And he comforted them, and spake kindly unto them.\nAnd Joseph dwelt in Egypt, he, and his father's house: and\nJoseph lived an hundred and ten years.\nAnd Joseph saw Ephraim's children of the third generation: the\nchildren also of Machir the son of Manasseh were brought up\nupon Joseph's knees.\nAnd Joseph said unto his brethren, I die: and God will surely\nvisit you, and bring you out of this land unto the land which\nhe sware to Abraham, to Isaac, and to Jacob.\nAnd Joseph took an oath of the children of Israel, saying, God\nwill surely visit you, and ye shall carry up my bones from\nhence.\nSo Joseph died, being an hundred and ten years old: and they\nembalmed him, and he was put in a coffin in Egypt.\n\n"
     ]
    }
   ],
   "source": [
    "print(genesis.raw(genesis.fileids()[0]))"
   ]
  },
  {
   "cell_type": "code",
   "execution_count": 54,
   "metadata": {},
   "outputs": [
    {
     "output_type": "stream",
     "name": "stdout",
     "text": [
      "4 31 17 english-kjv.txt\n",
      "4 20 18 english-web.txt\n",
      "6 15 5 finnish.txt\n",
      "4 23 13 french.txt\n",
      "5 23 12 german.txt\n",
      "4 21 6 lolcat.txt\n",
      "4 27 13 portuguese.txt\n",
      "5 30 12 swedish.txt\n"
     ]
    }
   ],
   "source": [
    "for fileid in genesis.fileids():\n",
    "    num_chars = len(genesis.raw(fileid))\n",
    "    num_words = len(genesis.words(fileid))\n",
    "    num_sents = len(genesis.sents(fileid))\n",
    "    num_vocab = len(set(w.lower() for w in genesis.words(fileid)))\n",
    "    print(round(num_chars/num_words), round(num_words/num_sents), round(num_words/num_vocab), fileid)"
   ]
  },
  {
   "cell_type": "code",
   "execution_count": 63,
   "metadata": {},
   "outputs": [
    {
     "output_type": "execute_result",
     "data": {
      "text/plain": [
       "['In', 'the', 'beginning', 'God', 'created', 'the', ...]"
      ]
     },
     "metadata": {},
     "execution_count": 63
    }
   ],
   "source": [
    "genesis.words()"
   ]
  },
  {
   "source": [
    "## conditional frequencies"
   ],
   "cell_type": "markdown",
   "metadata": {}
  },
  {
   "cell_type": "code",
   "execution_count": 65,
   "metadata": {},
   "outputs": [],
   "source": [
    "c_items = [('F','apple'), ('F','apple'), ('F','kiwi'), ('V','cabbage'), ('V','cabbage'), ('V','potato') ]"
   ]
  },
  {
   "cell_type": "code",
   "execution_count": 66,
   "metadata": {},
   "outputs": [],
   "source": [
    "cdf = nltk.ConditionalFreqDist(c_items)"
   ]
  },
  {
   "cell_type": "code",
   "execution_count": 67,
   "metadata": {},
   "outputs": [
    {
     "output_type": "execute_result",
     "data": {
      "text/plain": [
       "['F', 'V']"
      ]
     },
     "metadata": {},
     "execution_count": 67
    }
   ],
   "source": [
    "cdf.conditions()"
   ]
  },
  {
   "cell_type": "code",
   "execution_count": 68,
   "metadata": {},
   "outputs": [
    {
     "output_type": "stream",
     "name": "stdout",
     "text": [
      "    apple cabbage    kiwi  potato \nF       2       0       1       0 \nV       0       2       0       1 \n"
     ]
    }
   ],
   "source": [
    "cdf.tabulate()"
   ]
  },
  {
   "cell_type": "code",
   "execution_count": 69,
   "metadata": {},
   "outputs": [
    {
     "output_type": "execute_result",
     "data": {
      "text/plain": [
       "'Python is an interpreted high-level programming language for general-purpose programming. Created by Guido van Rossum and first released in 1991.'"
      ]
     },
     "metadata": {},
     "execution_count": 69
    }
   ],
   "source": [
    "text"
   ]
  },
  {
   "source": [
    "# Raw Text processing"
   ],
   "cell_type": "markdown",
   "metadata": {}
  },
  {
   "cell_type": "code",
   "execution_count": 1,
   "metadata": {},
   "outputs": [],
   "source": [
    "t1 = \"Python is cool!!!\""
   ]
  },
  {
   "cell_type": "code",
   "execution_count": 4,
   "metadata": {},
   "outputs": [],
   "source": [
    "a = nltk.sent_tokenize(t1)"
   ]
  },
  {
   "cell_type": "code",
   "execution_count": 5,
   "metadata": {},
   "outputs": [
    {
     "output_type": "execute_result",
     "data": {
      "text/plain": [
       "['Python is cool!!', '!']"
      ]
     },
     "metadata": {},
     "execution_count": 5
    }
   ],
   "source": [
    "a"
   ]
  },
  {
   "cell_type": "code",
   "execution_count": 7,
   "metadata": {},
   "outputs": [
    {
     "output_type": "execute_result",
     "data": {
      "text/plain": [
       "['Python', 'is', 'cool', '!', '!', '!']"
      ]
     },
     "metadata": {},
     "execution_count": 7
    }
   ],
   "source": [
    "b = nltk.word_tokenize(t1)\n",
    "b"
   ]
  },
  {
   "cell_type": "code",
   "execution_count": 149,
   "metadata": {},
   "outputs": [
    {
     "output_type": "stream",
     "name": "stdout",
     "text": [
      "['Python', 'is', 'cool']\n"
     ]
    }
   ],
   "source": [
    "import re\n",
    "# print(re.findall(r'\\s\\w+\\b', t1))\n",
    "print(re.findall(r'\\w+', t1))"
   ]
  },
  {
   "source": [
    "## Bigrams\n",
    "- bigram represents the two consecutive words appearing in the sentence"
   ],
   "cell_type": "markdown",
   "metadata": {}
  },
  {
   "cell_type": "code",
   "execution_count": 11,
   "metadata": {},
   "outputs": [],
   "source": [
    "s = \"python is awesome language\""
   ]
  },
  {
   "cell_type": "code",
   "execution_count": 14,
   "metadata": {},
   "outputs": [
    {
     "output_type": "stream",
     "name": "stdout",
     "text": [
      "['python', 'is', 'awesome', 'language']\n"
     ]
    }
   ],
   "source": [
    "tokens = nltk.word_tokenize(s)\n",
    "print(tokens)"
   ]
  },
  {
   "cell_type": "code",
   "execution_count": 15,
   "metadata": {},
   "outputs": [
    {
     "output_type": "execute_result",
     "data": {
      "text/plain": [
       "[('python', 'is'), ('is', 'awesome'), ('awesome', 'language')]"
      ]
     },
     "metadata": {},
     "execution_count": 15
    }
   ],
   "source": [
    "list(nltk.bigrams(tokens))"
   ]
  },
  {
   "cell_type": "code",
   "execution_count": 20,
   "metadata": {},
   "outputs": [
    {
     "output_type": "execute_result",
     "data": {
      "text/plain": [
       "[(('their', 'father'), 19), (('lived', 'after'), 16), (('seven', 'years'), 15)]"
      ]
     },
     "metadata": {},
     "execution_count": 20
    }
   ],
   "source": [
    "# computing frequent bigrams\n",
    "eng_tokens = genesis.words('english-kjv.txt')\n",
    "eng_bigrams = nltk.bigrams(eng_tokens)\n",
    "filtered_bigrams = [ (w1, w2) for w1, w2 in eng_bigrams if len(w1) >=5 and len(w2) >= 5 ]\n",
    "eng_bifreq = nltk.FreqDist(filtered_bigrams)\n",
    "eng_bifreq.most_common(3)"
   ]
  },
  {
   "cell_type": "code",
   "execution_count": 22,
   "metadata": {},
   "outputs": [
    {
     "output_type": "execute_result",
     "data": {
      "text/plain": [
       "[('creature', 7), ('thing', 4)]"
      ]
     },
     "metadata": {},
     "execution_count": 22
    }
   ],
   "source": [
    "# Determining frequent after words\n",
    "eng_conditional_bifreq = nltk.ConditionalFreqDist(filtered_bigrams)\n",
    "eng_conditional_bifreq[\"living\"].most_common(2)"
   ]
  },
  {
   "cell_type": "code",
   "execution_count": 25,
   "metadata": {},
   "outputs": [],
   "source": [
    "# generate frequent next word\n",
    "def generate_fnw(cdf, word, n = 5):\n",
    "    n_words = []\n",
    "    for i in range(n):\n",
    "        n_words.append(word)\n",
    "        word = cdf[word].max()\n",
    "    return n_words"
   ]
  },
  {
   "cell_type": "code",
   "execution_count": 34,
   "metadata": {},
   "outputs": [
    {
     "output_type": "execute_result",
     "data": {
      "text/plain": [
       "['living', 'creature', 'after', 'their', 'father']"
      ]
     },
     "metadata": {},
     "execution_count": 34
    }
   ],
   "source": [
    "generate_fnw(eng_conditional_bifreq, \"living\", 5)"
   ]
  },
  {
   "cell_type": "code",
   "execution_count": 35,
   "metadata": {},
   "outputs": [
    {
     "output_type": "stream",
     "name": "stdout",
     "text": [
      "[('after', 1)]\n"
     ]
    }
   ],
   "source": [
    "print(eng_conditional_bifreq[\"creature\"].most_common(2))"
   ]
  },
  {
   "cell_type": "code",
   "execution_count": 36,
   "metadata": {},
   "outputs": [],
   "source": [
    "# ngrams -> set of all consecutive n words"
   ]
  },
  {
   "cell_type": "code",
   "execution_count": 37,
   "metadata": {},
   "outputs": [],
   "source": [
    "# collocation is the pair of words that occurs together very often\n",
    "eg :- red wine"
   ]
  },
  {
   "cell_type": "code",
   "execution_count": 46,
   "metadata": {},
   "outputs": [
    {
     "output_type": "stream",
     "name": "stdout",
     "text": [
      "said unto; pray thee; thou shalt; thou hast; thy seed; years old;\nspake unto; thou art; LORD God; every living; God hath; begat sons;\nseven years; shalt thou; little ones; living creature; creeping thing;\nsavoury meat; thirty years; every beast\nNone\n"
     ]
    }
   ],
   "source": [
    "## generating collocation\n",
    "tokens = genesis.words(\"english-kjv.txt\")\n",
    "gen_text = nltk.Text(tokens)\n",
    "a = gen_text.collocations()\n",
    "print(a)"
   ]
  },
  {
   "cell_type": "code",
   "execution_count": 19,
   "metadata": {},
   "outputs": [
    {
     "output_type": "stream",
     "name": "stdout",
     "text": [
      "26\n"
     ]
    }
   ],
   "source": [
    "# What is the frequency of bigram ('BLACK', 'KNIGHT') in text collection text6?\n",
    "t_biagrams = nltk.bigrams(text6)\n",
    "a = [(w1,w2) for w1,w2 in t_biagrams if w1 == \"clop\" and w2 == \"clop\"]\n",
    "print(len(a))"
   ]
  },
  {
   "cell_type": "code",
   "execution_count": 151,
   "metadata": {
    "tags": []
   },
   "outputs": [
    {
     "output_type": "stream",
     "name": "stdout",
     "text": [
      "10985\n"
     ]
    },
    {
     "output_type": "execute_result",
     "data": {
      "text/plain": [
       "['FRENCH', 'GUARD']"
      ]
     },
     "metadata": {},
     "execution_count": 151
    }
   ],
   "source": [
    "t_biagrams = nltk.bigrams(text6)\n",
    "biagram_list = [(w1,w2) for w1,w2 in t_biagrams if len(w1)>=2]\n",
    "print(len(biagram_list))\n",
    "text6_cfd = nltk.ConditionalFreqDist(biagram_list)\n",
    "generate_fnw(text6_cfd, \"FRENCH\", 2)"
   ]
  },
  {
   "cell_type": "code",
   "execution_count": 107,
   "metadata": {},
   "outputs": [],
   "source": [
    "# Stemming - porter stemmer , Lancaster Stemmer"
   ]
  },
  {
   "cell_type": "code",
   "execution_count": 108,
   "metadata": {},
   "outputs": [],
   "source": [
    "porter = nltk.PorterStemmer()"
   ]
  },
  {
   "cell_type": "code",
   "execution_count": 121,
   "metadata": {},
   "outputs": [
    {
     "output_type": "execute_result",
     "data": {
      "text/plain": [
       "'lie'"
      ]
     },
     "metadata": {},
     "execution_count": 121
    }
   ],
   "source": [
    "porter.stem(\"lying\")"
   ]
  },
  {
   "cell_type": "code",
   "execution_count": 21,
   "metadata": {},
   "outputs": [
    {
     "output_type": "stream",
     "name": "stdout",
     "text": [
      "wom\n"
     ]
    }
   ],
   "source": [
    "lancaster = nltk.LancasterStemmer()\n",
    "print(lancaster.stem('women'))"
   ]
  },
  {
   "cell_type": "code",
   "execution_count": 4,
   "metadata": {},
   "outputs": [
    {
     "output_type": "execute_result",
     "data": {
      "text/plain": [
       "2166"
      ]
     },
     "metadata": {},
     "execution_count": 4
    }
   ],
   "source": [
    "## Normalising with stemmer\n",
    "len(set(text6))"
   ]
  },
  {
   "cell_type": "code",
   "execution_count": 7,
   "metadata": {},
   "outputs": [],
   "source": [
    "def find_longest_word(word_list):\n",
    "    longest_word = ''\n",
    "    for word in word_list:\n",
    "        if len(word) > len(longest_word):\n",
    "            longest_word = word\n",
    "    print(longest_word)"
   ]
  },
  {
   "cell_type": "code",
   "execution_count": 9,
   "metadata": {},
   "outputs": [
    {
     "output_type": "stream",
     "name": "stdout",
     "text": [
      "automatically\n"
     ]
    }
   ],
   "source": [
    "find_longest_word(text6)"
   ]
  },
  {
   "cell_type": "code",
   "execution_count": 111,
   "metadata": {},
   "outputs": [
    {
     "output_type": "execute_result",
     "data": {
      "text/plain": [
       "17231"
      ]
     },
     "metadata": {},
     "execution_count": 111
    }
   ],
   "source": [
    "lc_words = [word.lower() for word in text1]\n",
    "len(set(lc_words))"
   ]
  },
  {
   "cell_type": "code",
   "execution_count": 114,
   "metadata": {},
   "outputs": [
    {
     "output_type": "execute_result",
     "data": {
      "text/plain": [
       "10927"
      ]
     },
     "metadata": {},
     "execution_count": 114
    }
   ],
   "source": [
    "p_stem_words = [porter.stem(word) for word in lc_words]\n",
    "len(set(p_stem_words))"
   ]
  },
  {
   "cell_type": "code",
   "execution_count": 115,
   "metadata": {},
   "outputs": [],
   "source": [
    "# lammatisation -> always use lammatisation"
   ]
  },
  {
   "cell_type": "code",
   "execution_count": 116,
   "metadata": {},
   "outputs": [],
   "source": [
    "wnl = nltk.WordNetLemmatizer()\n",
    "wnl_stem_words = [wnl.lemmatize(word) for word in set(lc_words) ]"
   ]
  },
  {
   "cell_type": "code",
   "execution_count": 117,
   "metadata": {},
   "outputs": [
    {
     "output_type": "execute_result",
     "data": {
      "text/plain": [
       "17231"
      ]
     },
     "metadata": {},
     "execution_count": 117
    }
   ],
   "source": [
    "len(wnl_stem_words)"
   ]
  },
  {
   "cell_type": "code",
   "execution_count": 119,
   "metadata": {},
   "outputs": [
    {
     "output_type": "execute_result",
     "data": {
      "text/plain": [
       "109"
      ]
     },
     "metadata": {},
     "execution_count": 119
    }
   ],
   "source": [
    "a = [w for w in text6 if w.endswith(\"ly\") ]\n",
    "len(a)"
   ]
  },
  {
   "cell_type": "code",
   "execution_count": 122,
   "metadata": {},
   "outputs": [
    {
     "output_type": "execute_result",
     "data": {
      "text/plain": [
       "'woman'"
      ]
     },
     "metadata": {},
     "execution_count": 122
    }
   ],
   "source": [
    "wnl.lemmatize(\"women\")"
   ]
  },
  {
   "source": [
    "### Part of speech Tagging\n"
   ],
   "cell_type": "markdown",
   "metadata": {}
  },
  {
   "cell_type": "code",
   "execution_count": 132,
   "metadata": {},
   "outputs": [
    {
     "output_type": "stream",
     "name": "stderr",
     "text": [
      "[nltk_data] Downloading package tagsets to\n",
      "[nltk_data]     C:\\Users\\Rajat\\AppData\\Roaming\\nltk_data...\n",
      "[nltk_data]   Unzipping help\\tagsets.zip.\n"
     ]
    },
    {
     "output_type": "execute_result",
     "data": {
      "text/plain": [
       "True"
      ]
     },
     "metadata": {},
     "execution_count": 132
    }
   ],
   "source": [
    "# nltk.download(\"averaged_perceptron_tagger\")\n",
    "# nltk.download(\"tagsets\")"
   ]
  },
  {
   "cell_type": "code",
   "execution_count": 66,
   "metadata": {},
   "outputs": [
    {
     "output_type": "execute_result",
     "data": {
      "text/plain": [
       "[('world', 'NN')]"
      ]
     },
     "metadata": {},
     "execution_count": 66
    }
   ],
   "source": [
    "nltk.pos_tag(['world'])"
   ]
  },
  {
   "cell_type": "code",
   "execution_count": 134,
   "metadata": {},
   "outputs": [
    {
     "output_type": "stream",
     "name": "stdout",
     "text": [
      "NN: noun, common, singular or mass\n    common-carrier cabbage knuckle-duster Casino afghan shed thermostat\n    investment slide humour falloff slick wind hyena override subhumanity\n    machinist ...\n"
     ]
    }
   ],
   "source": [
    "# get help about a tag\n",
    "nltk.help.upenn_tagset(\"NN\")"
   ]
  },
  {
   "cell_type": "code",
   "execution_count": 135,
   "metadata": {},
   "outputs": [
    {
     "output_type": "stream",
     "name": "stdout",
     "text": [
      "('fly', 'NN')\n"
     ]
    }
   ],
   "source": [
    "tagged_token = nltk.tag.str2tuple('fly/NN')\n",
    "print(tagged_token)"
   ]
  },
  {
   "cell_type": "code",
   "execution_count": 138,
   "metadata": {},
   "outputs": [
    {
     "output_type": "stream",
     "name": "stdout",
     "text": [
      "24\n"
     ]
    }
   ],
   "source": [
    "## Count the number of words in text collection, text6, which have only digits as characters?\n",
    "a = [w for w in text6 if w.isdigit()]\n",
    "print(len(set(a)))"
   ]
  },
  {
   "cell_type": "code",
   "execution_count": 141,
   "metadata": {},
   "outputs": [],
   "source": [
    "from nltk.corpus import brown"
   ]
  },
  {
   "cell_type": "code",
   "execution_count": 145,
   "metadata": {},
   "outputs": [
    {
     "output_type": "stream",
     "name": "stdout",
     "text": [
      "6725\n"
     ]
    }
   ],
   "source": [
    "a = [(word,pos) for word, pos in brown.tagged_words() if word==\"The\" and pos==\"AT\"]\n",
    "print(len(a))"
   ]
  },
  {
   "cell_type": "code",
   "execution_count": 12,
   "metadata": {},
   "outputs": [
    {
     "output_type": "execute_result",
     "data": {
      "text/plain": [
       "['Python', 'is', 'cool', '!', '!', '!']"
      ]
     },
     "metadata": {},
     "execution_count": 12
    }
   ],
   "source": [
    "nltk.word_tokenize(\"Python is cool!!!\")"
   ]
  },
  {
   "cell_type": "code",
   "execution_count": 22,
   "metadata": {},
   "outputs": [
    {
     "output_type": "execute_result",
     "data": {
      "text/plain": [
       "0.013261036128956209"
      ]
     },
     "metadata": {},
     "execution_count": 22
    }
   ],
   "source": [
    "text6_fd = nltk.FreqDist(text6.tokens)\n",
    "text6_fd[\"ARTHUR\"]/len(text6.tokens)"
   ]
  },
  {
   "source": [
    "# NLTK basics HandsOn"
   ],
   "cell_type": "markdown",
   "metadata": {}
  },
  {
   "source": [
    "### Simple operation with Text"
   ],
   "cell_type": "markdown",
   "metadata": {}
  },
  {
   "cell_type": "code",
   "execution_count": 31,
   "metadata": {
    "tags": []
   },
   "outputs": [
    {
     "output_type": "stream",
     "name": "stdout",
     "text": [
      "260819\n19317\n13\n"
     ]
    }
   ],
   "source": [
    "# simple text operation-1\n",
    "print(len(text1.tokens))\n",
    "print(len(set(text1.tokens)))\n",
    "print(len(text1.tokens)//len(set(text1.tokens)))"
   ]
  },
  {
   "cell_type": "code",
   "execution_count": 37,
   "metadata": {},
   "outputs": [],
   "source": [
    "# simple text operation-2\n",
    "ing_words = [w for w in set(text1.tokens) if w.endswith(\"ing\")]\n",
    "large_words = [w for w in (text1.tokens) if len(w) > 15]\n",
    "upper_words = [w for w in set(text1.tokens) if w.isupper()]"
   ]
  },
  {
   "cell_type": "code",
   "execution_count": 41,
   "metadata": {},
   "outputs": [],
   "source": [
    "# simple text operation-3\n",
    "text1_fd = nltk.FreqDist(text1.tokens)\n",
    "wordfreq = text1_fd[\"John\"]\n",
    "maxfreq = text1_fd.most_common(1)\n",
    "\n",
    "# textfreq = [w for w in text.tokens if w.isalnum()]\n",
    "# text1_fd = nltk.FreqDist(textfreq)\n",
    "# wordfreq = text1_fd[word]\n",
    "# maxfreq = text1_fd.most_common(1)[0][0]\n",
    "# return wordfreq, maxfreq"
   ]
  },
  {
   "source": [
    "### Accessing Text corpora  "
   ],
   "cell_type": "markdown",
   "metadata": {}
  },
  {
   "cell_type": "code",
   "execution_count": 51,
   "metadata": {},
   "outputs": [],
   "source": [
    "# accessing text corpora\n",
    "from nltk.corpus import inaugural\n",
    "def accessTextCorpora(fileid, word):\n",
    "    total_words = inaugural.words(fileid)\n",
    "    word_coverage = len(total_words)//len(set(total_words))\n",
    "    ed_words = [w for w in set(total_words) if w.endswith(\"ed\")]\n",
    "    lower_words = [w.lower() for w in total_words if w.isalpha()]\n",
    "    word_freq = nltk.FreqDist(lower_words)\n",
    "    w_f = word_freq[word]\n",
    "    return word_coverage, ed_words, w_f"
   ]
  },
  {
   "cell_type": "code",
   "execution_count": 54,
   "metadata": {},
   "outputs": [
    {
     "output_type": "stream",
     "name": "stdout",
     "text": [
      "a\n"
     ]
    }
   ],
   "source": [
    "# user specific text corpora\n",
    "def createUserTextCorpora(filecontent1, filecontent2):\n",
    "    # Write your code here\n",
    "    with open(os.path.join('nltk_data/','content1.txt'),\"w\") as file1:\n",
    "        file1.write(filecontent1) \n",
    "    with open(os.path.join('nltk_data/','content2.txt'),\"w\") as file2:\n",
    "        file2.write(filecontent2)  \n",
    "\n",
    "    text_corpus = PlaintextCorpusReader('nltk_data/','.*')\n",
    "    no_of_words_corpus1 = len(text_corpus.words('content1.txt'))\n",
    "    no_of_words_corpus2 = len(text_corpus.words('content2.txt'))\n",
    "    no_of_unique_words_corpus1 = len(set(text_corpus.words('content1.txt')))\n",
    "    no_of_unique_words_corpus2 = len(set(text_corpus.words('content2.txt')))\n",
    "\n",
    "    return text_corpus,no_of_words_corpus1,no_of_unique_words_corpus1,no_of_words_corpus2,no_of_unique_words_corpus2"
   ]
  },
  {
   "source": [
    "### Conditional Frequency distribution"
   ],
   "cell_type": "markdown",
   "metadata": {}
  },
  {
   "cell_type": "code",
   "execution_count": 35,
   "metadata": {},
   "outputs": [],
   "source": [
    "from nltk.corpus import brown\n",
    "from nltk.corpus import stopwords\n",
    "def calculateCFD(cfdconditions, cfdevents):\n",
    "    stop_words = set(stopwords.words(\"english\"))\n",
    "    cdev_cfd = []\n",
    "    for genre in cfdconditions:\n",
    "        for w in brown.words(categories=genre):\n",
    "            if not w.lower() in stop_words:\n",
    "                cdev_cfd.append((genre,w.lower()))\n",
    "    \n",
    "    cdev_list = [list(x) for x in cdev_cfd]\n",
    "    \n",
    "    for w in cdev_list:\n",
    "        if w[1].endswith(\"ing\"):\n",
    "            w[1] = \"ing\"\n",
    "        if w[1].endswith(\"ed\"):\n",
    "            w[1] = \"ed\"\n",
    "    inged_cfd = nltk.ConditionalFreqDist(cdev_list)  \n",
    "    inged_cfd.tabulate(conditions = cfdconditions, samples = cfdevents)\n"
   ]
  },
  {
   "cell_type": "code",
   "execution_count": 37,
   "metadata": {},
   "outputs": [
    {
     "output_type": "stream",
     "name": "stdout",
     "text": [
      "           first  last \ngovernment    62    21 \n   hobbies   126    26 \n"
     ]
    }
   ],
   "source": [
    "calculateCFD([\"government\",\"hobbies\"],[\"first\",\"last\"])"
   ]
  },
  {
   "source": [
    "### Stemming and Lemmatization"
   ],
   "cell_type": "markdown",
   "metadata": {}
  },
  {
   "cell_type": "code",
   "execution_count": 34,
   "metadata": {},
   "outputs": [],
   "source": [
    "from nltk.tokenize import RegexpTokenizer\n",
    "from nltk.corpus import stopwords\n",
    "from nltk.stem import PorterStemmer\n",
    "from nltk.stem import LancasterStemmer\n",
    "from nltk.stem import WordNetLemmatizer "
   ]
  },
  {
   "cell_type": "code",
   "execution_count": 35,
   "metadata": {},
   "outputs": [],
   "source": [
    "def performStemAndLemma(textcontent):\n",
    "    tk = RegexpTokenizer(\"\\w+\")\n",
    "    stop_words = set(stopwords.words(\"english\"))\n",
    "    tokenizedwords = tk.tokenize(textcontent)\n",
    "    tokenizedwords = [w.lower() for w in set(tokenizedwords)]\n",
    "    filteredwords = [w for w in tokenizedwords if not w in stop_words]\n",
    "    porter = PorterStemmer()\n",
    "    porterstemmedwords = [porter.stem(w) for w in filteredwords]\n",
    "    lan = LancasterStemmer()\n",
    "    lancasterstemmedwords = [lan.stem(w) for w in filteredwords]\n",
    "    lemmatizer = WordNetLemmatizer()\n",
    "    lemmatizedwords = [lemmatizer.lemmatize(w) for w in filteredwords]\n",
    "    print(lemmatizedwords)"
   ]
  },
  {
   "cell_type": "code",
   "execution_count": 36,
   "metadata": {},
   "outputs": [
    {
     "output_type": "stream",
     "name": "stdout",
     "text": [
      "['hey', 'going', '344h', 'you_', 'yh']\n"
     ]
    }
   ],
   "source": [
    "performStemAndLemma(\"hey you_ 344h and,yh the going\")"
   ]
  },
  {
   "source": [
    "### POS Tagging"
   ],
   "cell_type": "markdown",
   "metadata": {}
  },
  {
   "cell_type": "code",
   "execution_count": 107,
   "metadata": {},
   "outputs": [
    {
     "output_type": "error",
     "ename": "ModuleNotFoundError",
     "evalue": "No module named 'nltk.tagger'",
     "traceback": [
      "\u001b[1;31m---------------------------------------------------------------------------\u001b[0m",
      "\u001b[1;31mModuleNotFoundError\u001b[0m                       Traceback (most recent call last)",
      "\u001b[1;32m<ipython-input-107-7519784f826f>\u001b[0m in \u001b[0;36m<module>\u001b[1;34m\u001b[0m\n\u001b[1;32m----> 1\u001b[1;33m \u001b[1;32mfrom\u001b[0m \u001b[0mnltk\u001b[0m\u001b[1;33m.\u001b[0m\u001b[0mtagger\u001b[0m \u001b[1;32mimport\u001b[0m \u001b[0mTaggedTokenizer\u001b[0m\u001b[1;33m\u001b[0m\u001b[1;33m\u001b[0m\u001b[0m\n\u001b[0m",
      "\u001b[1;31mModuleNotFoundError\u001b[0m: No module named 'nltk.tagger'"
     ]
    }
   ],
   "source": []
  },
  {
   "cell_type": "code",
   "execution_count": 108,
   "metadata": {},
   "outputs": [],
   "source": [
    "def tagPOS(textcontent, taggedtextcontent, defined_tags):\n",
    "    text_words = nltk.word_tokenize(textcontent)\n",
    "    nltk_pos_tags = nltk.pos_tag(text_words)\n",
    "    tagged_pos_tags = [nltk.tag.str2tuple(t) for t in taggedtextcontent.split()]\n",
    "    baseline_tagger = nltk.UnigramTagger(model=defined_tags)\n",
    "    unigram_pos_tag = baseline_tagger.tag(text_words)"
   ]
  },
  {
   "cell_type": "code",
   "execution_count": 84,
   "metadata": {},
   "outputs": [
    {
     "output_type": "error",
     "ename": "TypeError",
     "evalue": "tagPOS() missing 1 required positional argument: 'defined_tags'",
     "traceback": [
      "\u001b[1;31m---------------------------------------------------------------------------\u001b[0m",
      "\u001b[1;31mTypeError\u001b[0m                                 Traceback (most recent call last)",
      "\u001b[1;32m<ipython-input-84-425fd9953a6c>\u001b[0m in \u001b[0;36m<module>\u001b[1;34m\u001b[0m\n\u001b[1;32m----> 1\u001b[1;33m \u001b[0mtagPOS\u001b[0m\u001b[1;33m(\u001b[0m\u001b[1;34m\"Python is awesome.\"\u001b[0m\u001b[1;33m,\u001b[0m\u001b[1;34m\"Python/NNP is/VBZ awesome/DT\"\u001b[0m\u001b[1;33m)\u001b[0m\u001b[1;33m\u001b[0m\u001b[1;33m\u001b[0m\u001b[0m\n\u001b[0m",
      "\u001b[1;31mTypeError\u001b[0m: tagPOS() missing 1 required positional argument: 'defined_tags'"
     ]
    }
   ],
   "source": [
    "tagPOS(\"Python is awesome.\",\"Python/NNP is/VBZ awesome/DT\")"
   ]
  },
  {
   "source": [
    "### Processing Raw Text"
   ],
   "cell_type": "markdown",
   "metadata": {}
  },
  {
   "cell_type": "code",
   "execution_count": 86,
   "metadata": {},
   "outputs": [],
   "source": [
    "from urllib.request import urlopen"
   ]
  },
  {
   "cell_type": "code",
   "execution_count": 105,
   "metadata": {},
   "outputs": [],
   "source": [
    "def processRawText(textURL):\n",
    "    textcontent = urlopen(textURL).read()\n",
    "    tokenizedlcwords = nltk.word_tokenize(textcontent.decode())\n",
    "    tokenizedlcwords = [w.lower() for w in tokenizedlcwords]\n",
    "    noofwords = len(tokenizedlcwords)\n",
    "    noofunqwords = len(set(tokenizedlcwords))\n",
    "    wordcov = noofwords//noofunqwords\n",
    "    alphawords = [w for w in tokenizedlcwords if w.isalpha()]\n",
    "    wordfreq = nltk.FreqDist(alphawords)\n",
    "    maxfreq = wordfreq.max()\n",
    "    print(wordfreq.max())"
   ]
  },
  {
   "cell_type": "code",
   "execution_count": 109,
   "metadata": {},
   "outputs": [
    {
     "output_type": "stream",
     "name": "stdout",
     "text": [
      "the\n"
     ]
    }
   ],
   "source": [
    "processRawText(\"https://hrcdn.net/s3_pub/istreet-assets/2KDELtu3svGwJgNXUXFE7Q/001.txt\")"
   ]
  },
  {
   "source": [
    "### Bigrams and Ngrams and collocation"
   ],
   "cell_type": "markdown",
   "metadata": {}
  },
  {
   "cell_type": "code",
   "execution_count": null,
   "metadata": {},
   "outputs": [],
   "source": [
    "from nltk.corpus import stopwords"
   ]
  },
  {
   "cell_type": "code",
   "execution_count": 136,
   "metadata": {},
   "outputs": [],
   "source": [
    "def performBigramsAndCollocations(textcontent, word):\n",
    "    tk = RegexpTokenizer(\"\\w+\")\n",
    "    stop_words = set(stopwords.words(\"english\"))\n",
    "    tokenizedwords = tk.tokenize(textcontent)\n",
    "    tokenizedwords = [w.lower() for w in tokenizedwords]\n",
    "    tokenizedwordsbigrams = nltk.bigrams(tokenizedwords)\n",
    "    tokenizednonstopwordsbigrams = [w for w in tokenizedwordsbigrams if w not in stop_words]\n",
    "    cdfbigrams = nltk.ConditionalFreqDist(tokenizednonstopwordsbigrams)\n",
    "    mostfrequentwordsafter = cdfbigrams[word].most_common(3)\n",
    "    gentext = nltk.Text(tokenizedwords)\n",
    "    collocationwords = gentext.collocation_list()\n",
    "    print(collocationwords)"
   ]
  },
  {
   "cell_type": "code",
   "execution_count": 137,
   "metadata": {},
   "outputs": [
    {
     "output_type": "stream",
     "name": "stdout",
     "text": [
      "\nNone\n"
     ]
    }
   ],
   "source": [
    "performBigramsAndCollocations(\"Explain to me again why I shouldn\\'t cheat?' he asked\",\"to\")"
   ]
  }
 ]
}