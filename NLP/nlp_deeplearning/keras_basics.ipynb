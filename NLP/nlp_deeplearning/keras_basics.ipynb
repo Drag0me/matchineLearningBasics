{
 "metadata": {
  "language_info": {
   "codemirror_mode": {
    "name": "ipython",
    "version": 3
   },
   "file_extension": ".py",
   "mimetype": "text/x-python",
   "name": "python",
   "nbconvert_exporter": "python",
   "pygments_lexer": "ipython3",
   "version": "3.9.0"
  },
  "orig_nbformat": 2,
  "kernelspec": {
   "name": "pythonjvsc74a57bd02a7e813a3a7523d091373fb5a49c6f9e3897e22c862934a34c60a0ebdf4c3580",
   "display_name": "Python 3.9.0  ('venv': venv)"
  },
  "metadata": {
   "interpreter": {
    "hash": "2a7e813a3a7523d091373fb5a49c6f9e3897e22c862934a34c60a0ebdf4c3580"
   }
  }
 },
 "nbformat": 4,
 "nbformat_minor": 2,
 "cells": [
  {
   "cell_type": "code",
   "execution_count": 1,
   "metadata": {},
   "outputs": [],
   "source": [
    "import numpy as np"
   ]
  },
  {
   "cell_type": "code",
   "execution_count": 2,
   "metadata": {},
   "outputs": [],
   "source": [
    "from sklearn.datasets import load_iris"
   ]
  },
  {
   "cell_type": "code",
   "execution_count": 3,
   "metadata": {},
   "outputs": [],
   "source": [
    "iris = load_iris()"
   ]
  },
  {
   "cell_type": "code",
   "execution_count": 4,
   "metadata": {},
   "outputs": [
    {
     "output_type": "stream",
     "name": "stdout",
     "text": [
      ".. _iris_dataset:\n\nIris plants dataset\n--------------------\n\n**Data Set Characteristics:**\n\n    :Number of Instances: 150 (50 in each of three classes)\n    :Number of Attributes: 4 numeric, predictive attributes and the class\n    :Attribute Information:\n        - sepal length in cm\n        - sepal width in cm\n        - petal length in cm\n        - petal width in cm\n        - class:\n                - Iris-Setosa\n                - Iris-Versicolour\n                - Iris-Virginica\n                \n    :Summary Statistics:\n\n    ============== ==== ==== ======= ===== ====================\n                    Min  Max   Mean    SD   Class Correlation\n    ============== ==== ==== ======= ===== ====================\n    sepal length:   4.3  7.9   5.84   0.83    0.7826\n    sepal width:    2.0  4.4   3.05   0.43   -0.4194\n    petal length:   1.0  6.9   3.76   1.76    0.9490  (high!)\n    petal width:    0.1  2.5   1.20   0.76    0.9565  (high!)\n    ============== ==== ==== ======= ===== ====================\n\n    :Missing Attribute Values: None\n    :Class Distribution: 33.3% for each of 3 classes.\n    :Creator: R.A. Fisher\n    :Donor: Michael Marshall (MARSHALL%PLU@io.arc.nasa.gov)\n    :Date: July, 1988\n\nThe famous Iris database, first used by Sir R.A. Fisher. The dataset is taken\nfrom Fisher's paper. Note that it's the same as in R, but not as in the UCI\nMachine Learning Repository, which has two wrong data points.\n\nThis is perhaps the best known database to be found in the\npattern recognition literature.  Fisher's paper is a classic in the field and\nis referenced frequently to this day.  (See Duda & Hart, for example.)  The\ndata set contains 3 classes of 50 instances each, where each class refers to a\ntype of iris plant.  One class is linearly separable from the other 2; the\nlatter are NOT linearly separable from each other.\n\n.. topic:: References\n\n   - Fisher, R.A. \"The use of multiple measurements in taxonomic problems\"\n     Annual Eugenics, 7, Part II, 179-188 (1936); also in \"Contributions to\n     Mathematical Statistics\" (John Wiley, NY, 1950).\n   - Duda, R.O., & Hart, P.E. (1973) Pattern Classification and Scene Analysis.\n     (Q327.D83) John Wiley & Sons.  ISBN 0-471-22361-1.  See page 218.\n   - Dasarathy, B.V. (1980) \"Nosing Around the Neighborhood: A New System\n     Structure and Classification Rule for Recognition in Partially Exposed\n     Environments\".  IEEE Transactions on Pattern Analysis and Machine\n     Intelligence, Vol. PAMI-2, No. 1, 67-71.\n   - Gates, G.W. (1972) \"The Reduced Nearest Neighbor Rule\".  IEEE Transactions\n     on Information Theory, May 1972, 431-433.\n   - See also: 1988 MLC Proceedings, 54-64.  Cheeseman et al\"s AUTOCLASS II\n     conceptual clustering system finds 3 classes in the data.\n   - Many, many more ...\n"
     ]
    }
   ],
   "source": [
    "print(iris.DESCR)"
   ]
  },
  {
   "cell_type": "code",
   "execution_count": 5,
   "metadata": {},
   "outputs": [],
   "source": [
    "X = iris.data"
   ]
  },
  {
   "cell_type": "code",
   "execution_count": 8,
   "metadata": {},
   "outputs": [],
   "source": [
    "# X"
   ]
  },
  {
   "cell_type": "code",
   "execution_count": 6,
   "metadata": {},
   "outputs": [],
   "source": [
    "y = iris.target"
   ]
  },
  {
   "cell_type": "code",
   "execution_count": 7,
   "metadata": {},
   "outputs": [
    {
     "output_type": "execute_result",
     "data": {
      "text/plain": [
       "array([0, 0, 0, 0, 0, 0, 0, 0, 0, 0, 0, 0, 0, 0, 0, 0, 0, 0, 0, 0, 0, 0,\n",
       "       0, 0, 0, 0, 0, 0, 0, 0, 0, 0, 0, 0, 0, 0, 0, 0, 0, 0, 0, 0, 0, 0,\n",
       "       0, 0, 0, 0, 0, 0, 1, 1, 1, 1, 1, 1, 1, 1, 1, 1, 1, 1, 1, 1, 1, 1,\n",
       "       1, 1, 1, 1, 1, 1, 1, 1, 1, 1, 1, 1, 1, 1, 1, 1, 1, 1, 1, 1, 1, 1,\n",
       "       1, 1, 1, 1, 1, 1, 1, 1, 1, 1, 1, 1, 2, 2, 2, 2, 2, 2, 2, 2, 2, 2,\n",
       "       2, 2, 2, 2, 2, 2, 2, 2, 2, 2, 2, 2, 2, 2, 2, 2, 2, 2, 2, 2, 2, 2,\n",
       "       2, 2, 2, 2, 2, 2, 2, 2, 2, 2, 2, 2, 2, 2, 2, 2, 2, 2])"
      ]
     },
     "metadata": {},
     "execution_count": 7
    }
   ],
   "source": [
    "y"
   ]
  },
  {
   "cell_type": "code",
   "execution_count": 8,
   "metadata": {},
   "outputs": [
    {
     "output_type": "stream",
     "name": "stdout",
     "text": [
      "INFO:tensorflow:Enabling eager execution\n",
      "INFO:tensorflow:Enabling v2 tensorshape\n",
      "INFO:tensorflow:Enabling resource variables\n",
      "INFO:tensorflow:Enabling tensor equality\n",
      "INFO:tensorflow:Enabling control flow v2\n"
     ]
    }
   ],
   "source": [
    "from keras.utils.np_utils import to_categorical"
   ]
  },
  {
   "cell_type": "code",
   "execution_count": 9,
   "metadata": {},
   "outputs": [],
   "source": [
    "y = to_categorical(y)"
   ]
  },
  {
   "cell_type": "code",
   "execution_count": 10,
   "metadata": {},
   "outputs": [
    {
     "output_type": "execute_result",
     "data": {
      "text/plain": [
       "(150, 3)"
      ]
     },
     "metadata": {},
     "execution_count": 10
    }
   ],
   "source": [
    "y.shape"
   ]
  },
  {
   "cell_type": "code",
   "execution_count": 11,
   "metadata": {},
   "outputs": [],
   "source": [
    "from sklearn.model_selection import train_test_split"
   ]
  },
  {
   "cell_type": "code",
   "execution_count": 12,
   "metadata": {},
   "outputs": [],
   "source": [
    "xtrain,xtest,ytrain,ytest = train_test_split(X,y, test_size=0.33)"
   ]
  },
  {
   "cell_type": "code",
   "execution_count": 13,
   "metadata": {},
   "outputs": [],
   "source": [
    "from sklearn.preprocessing import MinMaxScaler"
   ]
  },
  {
   "cell_type": "code",
   "execution_count": 14,
   "metadata": {},
   "outputs": [],
   "source": [
    "sclar_object = MinMaxScaler()"
   ]
  },
  {
   "cell_type": "code",
   "execution_count": 15,
   "metadata": {},
   "outputs": [
    {
     "output_type": "execute_result",
     "data": {
      "text/plain": [
       "MinMaxScaler()"
      ]
     },
     "metadata": {},
     "execution_count": 15
    }
   ],
   "source": [
    "sclar_object.fit(xtrain)"
   ]
  },
  {
   "cell_type": "code",
   "execution_count": 16,
   "metadata": {},
   "outputs": [],
   "source": [
    "sclar_xtrain = sclar_object.transform(xtrain)"
   ]
  },
  {
   "cell_type": "code",
   "execution_count": 17,
   "metadata": {},
   "outputs": [],
   "source": [
    "sclar_xtest = sclar_object.transform(xtest)"
   ]
  },
  {
   "cell_type": "code",
   "execution_count": 18,
   "metadata": {},
   "outputs": [],
   "source": [
    "from keras.models import Sequential\n",
    "from keras.layers import Dense"
   ]
  },
  {
   "cell_type": "code",
   "execution_count": 19,
   "metadata": {},
   "outputs": [],
   "source": [
    "model = Sequential()\n",
    "model.add(Dense(8, input_dim=4, activation='relu'))\n",
    "model.add(Dense(8, input_dim=4, activation='relu'))\n",
    "model.add(Dense(3, activation='softmax'))\n",
    "model.compile(loss=\"categorical_crossentropy\", optimizer=\"adam\", metrics=[\"accuracy\"])"
   ]
  },
  {
   "cell_type": "code",
   "execution_count": 20,
   "metadata": {},
   "outputs": [
    {
     "output_type": "stream",
     "name": "stdout",
     "text": [
      "Model: \"sequential\"\n_________________________________________________________________\nLayer (type)                 Output Shape              Param #   \n=================================================================\ndense (Dense)                (None, 8)                 40        \n_________________________________________________________________\ndense_1 (Dense)              (None, 8)                 72        \n_________________________________________________________________\ndense_2 (Dense)              (None, 3)                 27        \n=================================================================\nTotal params: 139\nTrainable params: 139\nNon-trainable params: 0\n_________________________________________________________________\n"
     ]
    }
   ],
   "source": [
    "model.summary()"
   ]
  },
  {
   "cell_type": "code",
   "execution_count": 21,
   "metadata": {},
   "outputs": [
    {
     "output_type": "stream",
     "name": "stdout",
     "text": [
      "Epoch 1/150\n",
      "WARNING:tensorflow:AutoGraph could not transform <bound method Dense.call of <keras.layers.core.Dense object at 0x000001EA4596F7C0>> and will run it as-is.\n",
      "Please report this to the TensorFlow team. When filing the bug, set the verbosity to 10 (on Linux, `export AUTOGRAPH_VERBOSITY=10`) and attach the full output.\n",
      "Cause: invalid syntax (tmpxsi2m2zd.py, line 48)\n",
      "To silence this warning, decorate the function with @tf.autograph.experimental.do_not_convert\n",
      "WARNING: AutoGraph could not transform <bound method Dense.call of <keras.layers.core.Dense object at 0x000001EA4596F7C0>> and will run it as-is.\n",
      "Please report this to the TensorFlow team. When filing the bug, set the verbosity to 10 (on Linux, `export AUTOGRAPH_VERBOSITY=10`) and attach the full output.\n",
      "Cause: invalid syntax (tmpxsi2m2zd.py, line 48)\n",
      "To silence this warning, decorate the function with @tf.autograph.experimental.do_not_convert\n",
      "4/4 - 13s - loss: 1.0732 - accuracy: 0.3500\n",
      "Epoch 2/150\n",
      "4/4 - 0s - loss: 1.0668 - accuracy: 0.3800\n",
      "Epoch 3/150\n",
      "4/4 - 0s - loss: 1.0618 - accuracy: 0.3800\n",
      "Epoch 4/150\n",
      "4/4 - 0s - loss: 1.0558 - accuracy: 0.3800\n",
      "Epoch 5/150\n",
      "4/4 - 0s - loss: 1.0516 - accuracy: 0.3800\n",
      "Epoch 6/150\n",
      "4/4 - 0s - loss: 1.0465 - accuracy: 0.3800\n",
      "Epoch 7/150\n",
      "4/4 - 0s - loss: 1.0416 - accuracy: 0.3800\n",
      "Epoch 8/150\n",
      "4/4 - 0s - loss: 1.0368 - accuracy: 0.3800\n",
      "Epoch 9/150\n",
      "4/4 - 0s - loss: 1.0324 - accuracy: 0.3800\n",
      "Epoch 10/150\n",
      "4/4 - 0s - loss: 1.0275 - accuracy: 0.3800\n",
      "Epoch 11/150\n",
      "4/4 - 0s - loss: 1.0221 - accuracy: 0.3800\n",
      "Epoch 12/150\n",
      "4/4 - 0s - loss: 1.0169 - accuracy: 0.3800\n",
      "Epoch 13/150\n",
      "4/4 - 0s - loss: 1.0116 - accuracy: 0.3800\n",
      "Epoch 14/150\n",
      "4/4 - 0s - loss: 1.0059 - accuracy: 0.3800\n",
      "Epoch 15/150\n",
      "4/4 - 0s - loss: 1.0004 - accuracy: 0.3800\n",
      "Epoch 16/150\n",
      "4/4 - 0s - loss: 0.9959 - accuracy: 0.3800\n",
      "Epoch 17/150\n",
      "4/4 - 0s - loss: 0.9906 - accuracy: 0.3800\n",
      "Epoch 18/150\n",
      "4/4 - 0s - loss: 0.9859 - accuracy: 0.3800\n",
      "Epoch 19/150\n",
      "4/4 - 0s - loss: 0.9808 - accuracy: 0.3800\n",
      "Epoch 20/150\n",
      "4/4 - 0s - loss: 0.9756 - accuracy: 0.3800\n",
      "Epoch 21/150\n",
      "4/4 - 0s - loss: 0.9704 - accuracy: 0.3800\n",
      "Epoch 22/150\n",
      "4/4 - 0s - loss: 0.9653 - accuracy: 0.3800\n",
      "Epoch 23/150\n",
      "4/4 - 0s - loss: 0.9601 - accuracy: 0.3800\n",
      "Epoch 24/150\n",
      "4/4 - 0s - loss: 0.9548 - accuracy: 0.3800\n",
      "Epoch 25/150\n",
      "4/4 - 0s - loss: 0.9494 - accuracy: 0.3800\n",
      "Epoch 26/150\n",
      "4/4 - 0s - loss: 0.9440 - accuracy: 0.3800\n",
      "Epoch 27/150\n",
      "4/4 - 0s - loss: 0.9386 - accuracy: 0.3800\n",
      "Epoch 28/150\n",
      "4/4 - 0s - loss: 0.9331 - accuracy: 0.3800\n",
      "Epoch 29/150\n",
      "4/4 - 0s - loss: 0.9273 - accuracy: 0.3800\n",
      "Epoch 30/150\n",
      "4/4 - 0s - loss: 0.9218 - accuracy: 0.3800\n",
      "Epoch 31/150\n",
      "4/4 - 0s - loss: 0.9164 - accuracy: 0.3800\n",
      "Epoch 32/150\n",
      "4/4 - 0s - loss: 0.9108 - accuracy: 0.3800\n",
      "Epoch 33/150\n",
      "4/4 - 0s - loss: 0.9050 - accuracy: 0.3800\n",
      "Epoch 34/150\n",
      "4/4 - 0s - loss: 0.8994 - accuracy: 0.3800\n",
      "Epoch 35/150\n",
      "4/4 - 0s - loss: 0.8937 - accuracy: 0.3800\n",
      "Epoch 36/150\n",
      "4/4 - 0s - loss: 0.8880 - accuracy: 0.3900\n",
      "Epoch 37/150\n",
      "4/4 - 0s - loss: 0.8816 - accuracy: 0.3900\n",
      "Epoch 38/150\n",
      "4/4 - 0s - loss: 0.8753 - accuracy: 0.4100\n",
      "Epoch 39/150\n",
      "4/4 - 0s - loss: 0.8678 - accuracy: 0.4700\n",
      "Epoch 40/150\n",
      "4/4 - 0s - loss: 0.8611 - accuracy: 0.5200\n",
      "Epoch 41/150\n",
      "4/4 - 0s - loss: 0.8545 - accuracy: 0.5800\n",
      "Epoch 42/150\n",
      "4/4 - 0s - loss: 0.8482 - accuracy: 0.6200\n",
      "Epoch 43/150\n",
      "4/4 - 0s - loss: 0.8419 - accuracy: 0.6400\n",
      "Epoch 44/150\n",
      "4/4 - 0s - loss: 0.8353 - accuracy: 0.6600\n",
      "Epoch 45/150\n",
      "4/4 - 0s - loss: 0.8281 - accuracy: 0.6600\n",
      "Epoch 46/150\n",
      "4/4 - 0s - loss: 0.8205 - accuracy: 0.6600\n",
      "Epoch 47/150\n",
      "4/4 - 0s - loss: 0.8126 - accuracy: 0.6600\n",
      "Epoch 48/150\n",
      "4/4 - 0s - loss: 0.8062 - accuracy: 0.6600\n",
      "Epoch 49/150\n",
      "4/4 - 0s - loss: 0.7993 - accuracy: 0.6600\n",
      "Epoch 50/150\n",
      "4/4 - 0s - loss: 0.7925 - accuracy: 0.6600\n",
      "Epoch 51/150\n",
      "4/4 - 0s - loss: 0.7859 - accuracy: 0.6600\n",
      "Epoch 52/150\n",
      "4/4 - 0s - loss: 0.7788 - accuracy: 0.6600\n",
      "Epoch 53/150\n",
      "4/4 - 0s - loss: 0.7714 - accuracy: 0.6600\n",
      "Epoch 54/150\n",
      "4/4 - 0s - loss: 0.7640 - accuracy: 0.6600\n",
      "Epoch 55/150\n",
      "4/4 - 0s - loss: 0.7559 - accuracy: 0.6600\n",
      "Epoch 56/150\n",
      "4/4 - 0s - loss: 0.7457 - accuracy: 0.6600\n",
      "Epoch 57/150\n",
      "4/4 - 0s - loss: 0.7370 - accuracy: 0.6600\n",
      "Epoch 58/150\n",
      "4/4 - 0s - loss: 0.7273 - accuracy: 0.6600\n",
      "Epoch 59/150\n",
      "4/4 - 0s - loss: 0.7161 - accuracy: 0.6600\n",
      "Epoch 60/150\n",
      "4/4 - 0s - loss: 0.7057 - accuracy: 0.6600\n",
      "Epoch 61/150\n",
      "4/4 - 0s - loss: 0.6959 - accuracy: 0.6600\n",
      "Epoch 62/150\n",
      "4/4 - 0s - loss: 0.6860 - accuracy: 0.6600\n",
      "Epoch 63/150\n",
      "4/4 - 0s - loss: 0.6763 - accuracy: 0.6600\n",
      "Epoch 64/150\n",
      "4/4 - 0s - loss: 0.6656 - accuracy: 0.6600\n",
      "Epoch 65/150\n",
      "4/4 - 0s - loss: 0.6558 - accuracy: 0.6600\n",
      "Epoch 66/150\n",
      "4/4 - 0s - loss: 0.6448 - accuracy: 0.6800\n",
      "Epoch 67/150\n",
      "4/4 - 0s - loss: 0.6344 - accuracy: 0.6900\n",
      "Epoch 68/150\n",
      "4/4 - 0s - loss: 0.6253 - accuracy: 0.7100\n",
      "Epoch 69/150\n",
      "4/4 - 0s - loss: 0.6154 - accuracy: 0.7200\n",
      "Epoch 70/150\n",
      "4/4 - 0s - loss: 0.6050 - accuracy: 0.7100\n",
      "Epoch 71/150\n",
      "4/4 - 0s - loss: 0.5956 - accuracy: 0.7000\n",
      "Epoch 72/150\n",
      "4/4 - 0s - loss: 0.5868 - accuracy: 0.7000\n",
      "Epoch 73/150\n",
      "4/4 - 0s - loss: 0.5780 - accuracy: 0.7000\n",
      "Epoch 74/150\n",
      "4/4 - 0s - loss: 0.5682 - accuracy: 0.7000\n",
      "Epoch 75/150\n",
      "4/4 - 0s - loss: 0.5594 - accuracy: 0.7000\n",
      "Epoch 76/150\n",
      "4/4 - 0s - loss: 0.5511 - accuracy: 0.7000\n",
      "Epoch 77/150\n",
      "4/4 - 0s - loss: 0.5432 - accuracy: 0.7000\n",
      "Epoch 78/150\n",
      "4/4 - 0s - loss: 0.5348 - accuracy: 0.7000\n",
      "Epoch 79/150\n",
      "4/4 - 0s - loss: 0.5263 - accuracy: 0.7000\n",
      "Epoch 80/150\n",
      "4/4 - 0s - loss: 0.5186 - accuracy: 0.7000\n",
      "Epoch 81/150\n",
      "4/4 - 0s - loss: 0.5112 - accuracy: 0.7200\n",
      "Epoch 82/150\n",
      "4/4 - 0s - loss: 0.5049 - accuracy: 0.7400\n",
      "Epoch 83/150\n",
      "4/4 - 0s - loss: 0.4989 - accuracy: 0.7900\n",
      "Epoch 84/150\n",
      "4/4 - 0s - loss: 0.4928 - accuracy: 0.8100\n",
      "Epoch 85/150\n",
      "4/4 - 0s - loss: 0.4870 - accuracy: 0.8100\n",
      "Epoch 86/150\n",
      "4/4 - 0s - loss: 0.4815 - accuracy: 0.8100\n",
      "Epoch 87/150\n",
      "4/4 - 0s - loss: 0.4765 - accuracy: 0.8300\n",
      "Epoch 88/150\n",
      "4/4 - 0s - loss: 0.4715 - accuracy: 0.8500\n",
      "Epoch 89/150\n",
      "4/4 - 0s - loss: 0.4666 - accuracy: 0.8500\n",
      "Epoch 90/150\n",
      "4/4 - 0s - loss: 0.4621 - accuracy: 0.8700\n",
      "Epoch 91/150\n",
      "4/4 - 0s - loss: 0.4575 - accuracy: 0.8600\n",
      "Epoch 92/150\n",
      "4/4 - 0s - loss: 0.4529 - accuracy: 0.8500\n",
      "Epoch 93/150\n",
      "4/4 - 0s - loss: 0.4486 - accuracy: 0.8800\n",
      "Epoch 94/150\n",
      "4/4 - 0s - loss: 0.4439 - accuracy: 0.8900\n",
      "Epoch 95/150\n",
      "4/4 - 0s - loss: 0.4396 - accuracy: 0.8900\n",
      "Epoch 96/150\n",
      "4/4 - 0s - loss: 0.4358 - accuracy: 0.9000\n",
      "Epoch 97/150\n",
      "4/4 - 0s - loss: 0.4313 - accuracy: 0.9200\n",
      "Epoch 98/150\n",
      "4/4 - 0s - loss: 0.4271 - accuracy: 0.9200\n",
      "Epoch 99/150\n",
      "4/4 - 0s - loss: 0.4233 - accuracy: 0.9400\n",
      "Epoch 100/150\n",
      "4/4 - 0s - loss: 0.4193 - accuracy: 0.9300\n",
      "Epoch 101/150\n",
      "4/4 - 0s - loss: 0.4155 - accuracy: 0.9200\n",
      "Epoch 102/150\n",
      "4/4 - 0s - loss: 0.4116 - accuracy: 0.9200\n",
      "Epoch 103/150\n",
      "4/4 - 0s - loss: 0.4075 - accuracy: 0.9200\n",
      "Epoch 104/150\n",
      "4/4 - 0s - loss: 0.4041 - accuracy: 0.9100\n",
      "Epoch 105/150\n",
      "4/4 - 0s - loss: 0.4002 - accuracy: 0.9100\n",
      "Epoch 106/150\n",
      "4/4 - 0s - loss: 0.3966 - accuracy: 0.9300\n",
      "Epoch 107/150\n",
      "4/4 - 0s - loss: 0.3931 - accuracy: 0.9300\n",
      "Epoch 108/150\n",
      "4/4 - 0s - loss: 0.3898 - accuracy: 0.9400\n",
      "Epoch 109/150\n",
      "4/4 - 0s - loss: 0.3863 - accuracy: 0.9400\n",
      "Epoch 110/150\n",
      "4/4 - 0s - loss: 0.3825 - accuracy: 0.9400\n",
      "Epoch 111/150\n",
      "4/4 - 0s - loss: 0.3791 - accuracy: 0.9400\n",
      "Epoch 112/150\n",
      "4/4 - 0s - loss: 0.3760 - accuracy: 0.9400\n",
      "Epoch 113/150\n",
      "4/4 - 0s - loss: 0.3736 - accuracy: 0.9400\n",
      "Epoch 114/150\n",
      "4/4 - 0s - loss: 0.3711 - accuracy: 0.9200\n",
      "Epoch 115/150\n",
      "4/4 - 0s - loss: 0.3687 - accuracy: 0.9200\n",
      "Epoch 116/150\n",
      "4/4 - 0s - loss: 0.3657 - accuracy: 0.9200\n",
      "Epoch 117/150\n",
      "4/4 - 0s - loss: 0.3613 - accuracy: 0.9400\n",
      "Epoch 118/150\n",
      "4/4 - 0s - loss: 0.3583 - accuracy: 0.9400\n",
      "Epoch 119/150\n",
      "4/4 - 0s - loss: 0.3556 - accuracy: 0.9300\n",
      "Epoch 120/150\n",
      "4/4 - 0s - loss: 0.3520 - accuracy: 0.9400\n",
      "Epoch 121/150\n",
      "4/4 - 0s - loss: 0.3489 - accuracy: 0.9400\n",
      "Epoch 122/150\n",
      "4/4 - 0s - loss: 0.3453 - accuracy: 0.9400\n",
      "Epoch 123/150\n",
      "4/4 - 0s - loss: 0.3421 - accuracy: 0.9500\n",
      "Epoch 124/150\n",
      "4/4 - 0s - loss: 0.3393 - accuracy: 0.9600\n",
      "Epoch 125/150\n",
      "4/4 - 0s - loss: 0.3359 - accuracy: 0.9600\n",
      "Epoch 126/150\n",
      "4/4 - 0s - loss: 0.3330 - accuracy: 0.9600\n",
      "Epoch 127/150\n",
      "4/4 - 0s - loss: 0.3302 - accuracy: 0.9600\n",
      "Epoch 128/150\n",
      "4/4 - 0s - loss: 0.3279 - accuracy: 0.9600\n",
      "Epoch 129/150\n",
      "4/4 - 0s - loss: 0.3242 - accuracy: 0.9600\n",
      "Epoch 130/150\n",
      "4/4 - 0s - loss: 0.3220 - accuracy: 0.9600\n",
      "Epoch 131/150\n",
      "4/4 - 0s - loss: 0.3193 - accuracy: 0.9500\n",
      "Epoch 132/150\n",
      "4/4 - 0s - loss: 0.3175 - accuracy: 0.9600\n",
      "Epoch 133/150\n",
      "4/4 - 0s - loss: 0.3128 - accuracy: 0.9700\n",
      "Epoch 134/150\n",
      "4/4 - 0s - loss: 0.3108 - accuracy: 0.9700\n",
      "Epoch 135/150\n",
      "4/4 - 0s - loss: 0.3080 - accuracy: 0.9700\n",
      "Epoch 136/150\n",
      "4/4 - 0s - loss: 0.3048 - accuracy: 0.9700\n",
      "Epoch 137/150\n",
      "4/4 - 0s - loss: 0.3022 - accuracy: 0.9700\n",
      "Epoch 138/150\n",
      "4/4 - 0s - loss: 0.2999 - accuracy: 0.9700\n",
      "Epoch 139/150\n",
      "4/4 - 0s - loss: 0.2961 - accuracy: 0.9700\n",
      "Epoch 140/150\n",
      "4/4 - 0s - loss: 0.2938 - accuracy: 0.9600\n",
      "Epoch 141/150\n",
      "4/4 - 0s - loss: 0.2930 - accuracy: 0.9500\n",
      "Epoch 142/150\n",
      "4/4 - 0s - loss: 0.2921 - accuracy: 0.9500\n",
      "Epoch 143/150\n",
      "4/4 - 0s - loss: 0.2887 - accuracy: 0.9500\n",
      "Epoch 144/150\n",
      "4/4 - 0s - loss: 0.2836 - accuracy: 0.9700\n",
      "Epoch 145/150\n",
      "4/4 - 0s - loss: 0.2819 - accuracy: 0.9700\n",
      "Epoch 146/150\n",
      "4/4 - 0s - loss: 0.2796 - accuracy: 0.9700\n",
      "Epoch 147/150\n",
      "4/4 - 0s - loss: 0.2767 - accuracy: 0.9700\n",
      "Epoch 148/150\n",
      "4/4 - 0s - loss: 0.2731 - accuracy: 0.9700\n",
      "Epoch 149/150\n",
      "4/4 - 0s - loss: 0.2709 - accuracy: 0.9700\n",
      "Epoch 150/150\n",
      "4/4 - 0s - loss: 0.2701 - accuracy: 0.9600\n"
     ]
    },
    {
     "output_type": "execute_result",
     "data": {
      "text/plain": [
       "<keras.callbacks.History at 0x1ea27f762e0>"
      ]
     },
     "metadata": {},
     "execution_count": 21
    }
   ],
   "source": [
    "model.fit(sclar_xtrain, ytrain, epochs=150, verbose=2)"
   ]
  },
  {
   "source": [
    "- predicting from the created model"
   ],
   "cell_type": "markdown",
   "metadata": {}
  },
  {
   "cell_type": "code",
   "execution_count": 24,
   "metadata": {},
   "outputs": [
    {
     "output_type": "stream",
     "name": "stderr",
     "text": [
      "d:\\coding\\py_AI_ML\\MatchineLearning\\venv\\lib\\site-packages\\keras\\engine\\sequential.py:450: UserWarning: `model.predict_classes()` is deprecated and will be removed after 2021-01-01. Please use instead:* `np.argmax(model.predict(x), axis=-1)`,   if your model does multi-class classification   (e.g. if it uses a `softmax` last-layer activation).* `(model.predict(x) > 0.5).astype(\"int32\")`,   if your model does binary classification   (e.g. if it uses a `sigmoid` last-layer activation).\n  warnings.warn('`model.predict_classes()` is deprecated and '\n"
     ]
    }
   ],
   "source": [
    "predictions = model.predict_classes(sclar_xtest)"
   ]
  },
  {
   "cell_type": "code",
   "execution_count": 25,
   "metadata": {},
   "outputs": [],
   "source": [
    "y_transformed = ytest.argmax(axis=1)"
   ]
  },
  {
   "cell_type": "code",
   "execution_count": 27,
   "metadata": {},
   "outputs": [
    {
     "output_type": "execute_result",
     "data": {
      "text/plain": [
       "array([0, 1, 0, 1, 2, 0, 1, 2, 2, 0, 2, 2, 1, 0, 0, 2, 0, 0, 2, 2, 0, 1,\n",
       "       0, 2, 1, 0, 0, 1, 1, 1, 0, 0, 1, 2, 0, 1, 2, 1, 0, 0, 1, 0, 0, 0,\n",
       "       0, 1, 1, 0, 1, 2], dtype=int64)"
      ]
     },
     "metadata": {},
     "execution_count": 27
    }
   ],
   "source": [
    "y_transformed"
   ]
  },
  {
   "cell_type": "code",
   "execution_count": 28,
   "metadata": {},
   "outputs": [],
   "source": [
    "from sklearn.metrics import confusion_matrix, classification_report, accuracy_score"
   ]
  },
  {
   "cell_type": "code",
   "execution_count": 29,
   "metadata": {},
   "outputs": [
    {
     "output_type": "stream",
     "name": "stdout",
     "text": [
      "              precision    recall  f1-score   support\n\n           0       1.00      1.00      1.00        22\n           1       1.00      0.88      0.93        16\n           2       0.86      1.00      0.92        12\n\n    accuracy                           0.96        50\n   macro avg       0.95      0.96      0.95        50\nweighted avg       0.97      0.96      0.96        50\n\n"
     ]
    }
   ],
   "source": [
    "print(classification_report(y_transformed, predictions))"
   ]
  },
  {
   "cell_type": "code",
   "execution_count": 30,
   "metadata": {},
   "outputs": [
    {
     "output_type": "stream",
     "name": "stdout",
     "text": [
      "0.96\n"
     ]
    }
   ],
   "source": [
    "print(accuracy_score(y_transformed, predictions))"
   ]
  },
  {
   "source": [
    "## saving the model"
   ],
   "cell_type": "markdown",
   "metadata": {}
  },
  {
   "cell_type": "code",
   "execution_count": 32,
   "metadata": {},
   "outputs": [],
   "source": [
    "model.save(\"leafmodel.h5\")"
   ]
  },
  {
   "source": [
    "### load the model"
   ],
   "cell_type": "markdown",
   "metadata": {}
  },
  {
   "cell_type": "code",
   "execution_count": 34,
   "metadata": {},
   "outputs": [],
   "source": [
    "from keras.models import load_model"
   ]
  },
  {
   "cell_type": "code",
   "execution_count": 35,
   "metadata": {},
   "outputs": [],
   "source": [
    "model2 = load_model(\"leafmodel.h5\")"
   ]
  },
  {
   "cell_type": "code",
   "execution_count": 39,
   "metadata": {},
   "outputs": [
    {
     "output_type": "execute_result",
     "data": {
      "text/plain": [
       "array([0, 1, 0, 1, 2, 0, 1, 2, 2, 0, 2, 2, 1, 0, 0, 2, 0, 0, 2, 2, 0, 1,\n",
       "       0, 2, 1, 0, 0, 2, 1, 2, 0, 0, 1, 2, 0, 1, 2, 1, 0, 0, 1, 0, 0, 0,\n",
       "       0, 1, 1, 0, 1, 2], dtype=int64)"
      ]
     },
     "metadata": {},
     "execution_count": 39
    }
   ],
   "source": [
    "model2.predict_classes(sclar_xtest)"
   ]
  },
  {
   "cell_type": "code",
   "execution_count": null,
   "metadata": {},
   "outputs": [],
   "source": []
  }
 ]
}