{
 "metadata": {
  "language_info": {
   "codemirror_mode": {
    "name": "ipython",
    "version": 3
   },
   "file_extension": ".py",
   "mimetype": "text/x-python",
   "name": "python",
   "nbconvert_exporter": "python",
   "pygments_lexer": "ipython3",
   "version": "3.9.0-final"
  },
  "orig_nbformat": 2,
  "kernelspec": {
   "name": "python3",
   "display_name": "Python 3",
   "language": "python"
  }
 },
 "nbformat": 4,
 "nbformat_minor": 2,
 "cells": [
  {
   "cell_type": "code",
   "execution_count": 3,
   "metadata": {},
   "outputs": [],
   "source": [
    "import numpy as np\n",
    "import pandas as pd\n",
    "from sklearn.model_selection import train_test_split"
   ]
  },
  {
   "cell_type": "code",
   "execution_count": 58,
   "metadata": {},
   "outputs": [
    {
     "output_type": "execute_result",
     "data": {
      "text/plain": [
       "  label                                             review\n",
       "0   neg  how do films like mouse hunt get into theatres...\n",
       "1   neg  some talented actresses are blessed with a dem...\n",
       "2   pos  this has been an extraordinary year for austra...\n",
       "3   pos  according to hollywood movies made in last few...\n",
       "4   neg  my first press screening of 1998 and already i..."
      ],
      "text/html": "<div>\n<style scoped>\n    .dataframe tbody tr th:only-of-type {\n        vertical-align: middle;\n    }\n\n    .dataframe tbody tr th {\n        vertical-align: top;\n    }\n\n    .dataframe thead th {\n        text-align: right;\n    }\n</style>\n<table border=\"1\" class=\"dataframe\">\n  <thead>\n    <tr style=\"text-align: right;\">\n      <th></th>\n      <th>label</th>\n      <th>review</th>\n    </tr>\n  </thead>\n  <tbody>\n    <tr>\n      <th>0</th>\n      <td>neg</td>\n      <td>how do films like mouse hunt get into theatres...</td>\n    </tr>\n    <tr>\n      <th>1</th>\n      <td>neg</td>\n      <td>some talented actresses are blessed with a dem...</td>\n    </tr>\n    <tr>\n      <th>2</th>\n      <td>pos</td>\n      <td>this has been an extraordinary year for austra...</td>\n    </tr>\n    <tr>\n      <th>3</th>\n      <td>pos</td>\n      <td>according to hollywood movies made in last few...</td>\n    </tr>\n    <tr>\n      <th>4</th>\n      <td>neg</td>\n      <td>my first press screening of 1998 and already i...</td>\n    </tr>\n  </tbody>\n</table>\n</div>"
     },
     "metadata": {},
     "execution_count": 58
    }
   ],
   "source": [
    "movies_df = pd.read_csv(\"../sample_files/moviereviews.tsv\",sep=\"\\t\")\n",
    "movies_df.head()"
   ]
  },
  {
   "cell_type": "code",
   "execution_count": 59,
   "metadata": {},
   "outputs": [
    {
     "output_type": "execute_result",
     "data": {
      "text/plain": [
       "label      0\n",
       "review    35\n",
       "dtype: int64"
      ]
     },
     "metadata": {},
     "execution_count": 59
    }
   ],
   "source": [
    "movies_df.isnull().sum()"
   ]
  },
  {
   "cell_type": "code",
   "execution_count": 60,
   "metadata": {},
   "outputs": [
    {
     "output_type": "execute_result",
     "data": {
      "text/plain": [
       "(1965, 2)"
      ]
     },
     "metadata": {},
     "execution_count": 60
    }
   ],
   "source": [
    "# remove nan values from the dataframe\n",
    "movies_df.dropna(inplace=True)\n",
    "movies_df.shape"
   ]
  },
  {
   "cell_type": "code",
   "execution_count": 63,
   "metadata": {},
   "outputs": [
    {
     "output_type": "execute_result",
     "data": {
      "text/plain": [
       "(1938, 2)"
      ]
     },
     "metadata": {},
     "execution_count": 63
    }
   ],
   "source": [
    "# now we drop empty string data\n",
    "movies_df =movies_df[~movies_df[\"review\"].str.isspace()]\n",
    "movies_df.shape"
   ]
  },
  {
   "cell_type": "code",
   "execution_count": 64,
   "metadata": {},
   "outputs": [
    {
     "output_type": "execute_result",
     "data": {
      "text/plain": [
       "0    how do films like mouse hunt get into theatres...\n",
       "1    some talented actresses are blessed with a dem...\n",
       "2    this has been an extraordinary year for austra...\n",
       "3    according to hollywood movies made in last few...\n",
       "4    my first press screening of 1998 and already i...\n",
       "Name: review, dtype: object"
      ]
     },
     "metadata": {},
     "execution_count": 64
    }
   ],
   "source": [
    "x = movies_df[\"review\"]\n",
    "x.head()"
   ]
  },
  {
   "cell_type": "code",
   "execution_count": 65,
   "metadata": {},
   "outputs": [
    {
     "output_type": "execute_result",
     "data": {
      "text/plain": [
       "0    neg\n",
       "1    neg\n",
       "2    pos\n",
       "3    pos\n",
       "4    neg\n",
       "Name: label, dtype: object"
      ]
     },
     "metadata": {},
     "execution_count": 65
    }
   ],
   "source": [
    "y = movies_df[\"label\"]\n",
    "y.head()"
   ]
  },
  {
   "cell_type": "code",
   "execution_count": 77,
   "metadata": {},
   "outputs": [],
   "source": [
    "x_train,x_test,y_train,y_test = train_test_split(x,y,test_size=0.3,random_state=2)"
   ]
  },
  {
   "cell_type": "code",
   "execution_count": 88,
   "metadata": {},
   "outputs": [],
   "source": [
    "from sklearn.feature_extraction.text import TfidfVectorizer\n",
    "tfid_vect = TfidfVectorizer()"
   ]
  },
  {
   "cell_type": "code",
   "execution_count": 91,
   "metadata": {},
   "outputs": [],
   "source": [
    "x_tfid = tfid_vect.fit_transform(x)"
   ]
  },
  {
   "cell_type": "code",
   "execution_count": 102,
   "metadata": {},
   "outputs": [],
   "source": [
    "x_train,x_test,y_train,y_test = train_test_split(x_tfid,y,test_size=0.3,random_state=3)"
   ]
  },
  {
   "cell_type": "code",
   "execution_count": 103,
   "metadata": {},
   "outputs": [],
   "source": [
    "from sklearn.svm import LinearSVC"
   ]
  },
  {
   "cell_type": "code",
   "execution_count": 104,
   "metadata": {},
   "outputs": [
    {
     "output_type": "execute_result",
     "data": {
      "text/plain": [
       "LinearSVC()"
      ]
     },
     "metadata": {},
     "execution_count": 104
    }
   ],
   "source": [
    "lsvc = LinearSVC()\n",
    "lsvc.fit(x_train,y_train)"
   ]
  },
  {
   "cell_type": "code",
   "execution_count": 105,
   "metadata": {},
   "outputs": [],
   "source": [
    "from sklearn.metrics import confusion_matrix, accuracy_score"
   ]
  },
  {
   "cell_type": "code",
   "execution_count": 106,
   "metadata": {},
   "outputs": [],
   "source": [
    "prediction = lsvc.predict(x_test)"
   ]
  },
  {
   "cell_type": "code",
   "execution_count": 107,
   "metadata": {},
   "outputs": [
    {
     "output_type": "stream",
     "name": "stdout",
     "text": [
      "[[228  42]\n [ 45 267]]\n"
     ]
    }
   ],
   "source": [
    "print(confusion_matrix(prediction, y_test))"
   ]
  },
  {
   "cell_type": "code",
   "execution_count": 108,
   "metadata": {},
   "outputs": [
    {
     "output_type": "stream",
     "name": "stdout",
     "text": [
      "0.8505154639175257\n"
     ]
    }
   ],
   "source": [
    "print(accuracy_score(prediction, y_test))"
   ]
  }
 ]
}